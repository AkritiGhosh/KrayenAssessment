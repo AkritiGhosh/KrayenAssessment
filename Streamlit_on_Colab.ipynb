{
  "nbformat": 4,
  "nbformat_minor": 0,
  "metadata": {
    "colab": {
      "name": "Streamlit on Colab.ipynb",
      "provenance": [],
      "authorship_tag": "ABX9TyMnnihAHFlLrszh0YfzBZ0A",
      "include_colab_link": true
    },
    "kernelspec": {
      "name": "python3",
      "display_name": "Python 3"
    },
    "language_info": {
      "name": "python"
    }
  },
  "cells": [
    {
      "cell_type": "markdown",
      "metadata": {
        "id": "view-in-github",
        "colab_type": "text"
      },
      "source": [
        "<a href=\"https://colab.research.google.com/github/AkritiGhosh/KrayenAssessment/blob/main/Streamlit_on_Colab.ipynb\" target=\"_parent\"><img src=\"https://colab.research.google.com/assets/colab-badge.svg\" alt=\"Open In Colab\"/></a>"
      ]
    },
    {
      "cell_type": "code",
      "source": [
        "# Upload cnn model and \n",
        "from google.colab import files\n",
        "files.upload()"
      ],
      "metadata": {
        "id": "22V5w_lDRkZb"
      },
      "execution_count": null,
      "outputs": []
    },
    {
      "cell_type": "code",
      "source": [
        "!mv '/content/gcmodel.h5'  '/content/model.h5'"
      ],
      "metadata": {
        "id": "BMg4G76mlQ8z"
      },
      "execution_count": null,
      "outputs": []
    },
    {
      "cell_type": "code",
      "execution_count": null,
      "metadata": {
        "id": "DADPGcdMP4H1"
      },
      "outputs": [],
      "source": [
        "!pip install streamlit pyngrok"
      ]
    },
    {
      "cell_type": "code",
      "source": [
        "%%writefile app.py\n",
        "\n",
        "import streamlit as st\n",
        "import tensorflow as tf\n",
        "import pandas as pd\n",
        "import numpy as np\n",
        "import cv2\n",
        "from PIL import Image, ImageOps\n",
        "\n",
        "PAGE_CONFIG = {\"page_title\":\"Garbage Collection.io\",\"page_icon\":\"chart_with_upwards_trend\",\"layout\":\"centered\"}\n",
        "st.set_page_config(**PAGE_CONFIG)\n",
        "\n",
        "def output(arr):\n",
        "  classes = {1:'cardboard', 2:'glass',3:'metal',4:'paper',5:'plastic',6:'trash'}\n",
        "  return classes[np.argmax(arr)]\n",
        "\n",
        "def import_and_predict(image_data, model):\n",
        "    size = (128,128)    \n",
        "    image = ImageOps.fit(image_data, size, Image.ANTIALIAS)\n",
        "    image = np.asarray(image)\n",
        "    img = cv2.cvtColor(image, cv2.COLOR_BGR2RGB)\n",
        "    img_resize = (cv2.resize(img, dsize=(128, 128),interpolation=cv2.INTER_CUBIC))/255.\n",
        "    img_reshape = img[np.newaxis,...]\n",
        "    prediction = output(model.predict(img_reshape))\n",
        "    return prediction\n",
        "\n",
        "def load_model(path):\n",
        "    model=tf.keras.models.load_model(path)\n",
        "    return model\n",
        "\n",
        "st.title(\"Krayen Assessment\")\n",
        "st.subheader('Garbage Collection')\n",
        "with st.spinner('Model is being loaded..'):\n",
        "  model=load_model('/content/model.h5')\n",
        "\n",
        "file = st.file_uploader(\"Please upload an image\", type=[\"jpg\", \"png\"])\n",
        "st.set_option('deprecation.showfileUploaderEncoding', False)\n",
        "if file is None:\n",
        "    st.text(\"Please upload an image file\")\n",
        "else:\n",
        "    image = Image.open(file)\n",
        "    st.image(image, use_column_width=True)\n",
        "    predictions = import_and_predict(image, model)\n",
        "    st.write('Prediction:')\n",
        "    st.write(predictions)\n"
      ],
      "metadata": {
        "colab": {
          "base_uri": "https://localhost:8080/"
        },
        "id": "PFLCwCKQQplS",
        "outputId": "8d5db9e3-6d49-4742-f38e-511808f1fe9b"
      },
      "execution_count": null,
      "outputs": [
        {
          "output_type": "stream",
          "name": "stdout",
          "text": [
            "Overwriting app.py\n"
          ]
        }
      ]
    },
    {
      "cell_type": "code",
      "source": [
        "%%writefile app.py\n",
        "\n",
        "import streamlit as st\n",
        "import pandas as pd\n",
        "import numpy as np\n",
        "\n",
        "PAGE_CONFIG = {\"page_title\":\"IPL EDA.io\",\"page_icon\":\"chart_with_upwards_trend\",\"layout\":\"centered\"}\n",
        "st.set_page_config(**PAGE_CONFIG)\n",
        "\n",
        "hr = '''\n",
        "\n",
        "----\n",
        "\n",
        "'''\n",
        "\n",
        "def fillna(matches, deliveries, df_eda):\n",
        "  df_eda.loc[df_eda['venue'] == 'Dubai International Cricket Stadium', 'city'] = 'Dubai'\n",
        "  matches.loc[matches['venue'] == 'Dubai International Cricket Stadium', 'city'] = 'Dubai'\n",
        "  df_eda['winner'].fillna('Tie', inplace=True)\n",
        "  matches['winner'].fillna('Tie', inplace=True)\n",
        "  df_eda['player_dismissed'].fillna('None', inplace=True)\n",
        "  deliveries['player_dismissed'].fillna('None', inplace=True)\n",
        "  df_eda['dismissal_kind'].fillna('None', inplace=True)\n",
        "  deliveries['dismissal_kind'].fillna('None', inplace=True)\n",
        "  df_eda = df_eda.fillna('NA')\n",
        "\n",
        "\n",
        "st.title(\"Krayen Assessment\")\n",
        "st.subheader('IPL EDA')\n",
        "matches = pd.read_csv('/content/matches.csv')\n",
        "deliveries = pd.read_csv('/content/deliveries.csv')\n",
        "df_eda = pd.merge(deliveries,matches, left_on='match_id', right_on='id', how ='outer')\n",
        "del df_eda['id']\n",
        "del df_eda['umpire3']\n",
        "del df_eda['result']\n",
        "del df_eda['fielder']\n",
        "st.write('The merged data set -')\n",
        "st.write(df_eda.head())\n",
        "fillna(matches, deliveries, df_eda)\n",
        "st.write('After filling empty values - ',df_eda.head())\n",
        "st.markdown(hr)\n",
        "seasons = np.sort(matches.season.unique())\n",
        "st.write('Seasons-', seasons)\n",
        "teams = list(set(matches.team1.unique()) | set(matches.team2.unique()))\n",
        "players = list(set(df_eda.batsman.unique()) | set(df_eda.bowler.unique()))\n",
        "st.write('Teams-', teams)\n",
        "st.subheader('Team Performance')\n",
        "st.write('Matches won by teams - ',pd.Series(matches['winner'].value_counts(), name = 'Matches Win'))\n",
        "winners = list(matches['winner'].unique())\n",
        "st.markdown(hr)\n",
        "st.write(\"No of teams who didn't win any game -\", len(list(set(teams) - set(winners))))\n",
        "st.markdown(hr)\n",
        "total_win = pd.Series(matches['winner'].value_counts(), name = 'Matches Win')\n",
        "team_play = {}\n",
        "for i in teams:\n",
        "  team_play[i] = int(matches['team1'].value_counts()[i]) + int(matches['team2'].value_counts()[i])\n",
        "total_play = pd.Series(team_play, name = 'Matches Play')\n",
        "team_score = pd.merge(total_play, total_win, right_index = True,\n",
        "               left_index = True)\n",
        "team_score['Win%'] = (team_score['Matches Win'] / team_score['Matches Play']) * 100\n",
        "st.write('Stats for each team',team_score.sort_values('Win%', ascending=False))\n",
        "\n",
        "st.subheader('Season Performance')\n",
        "season_winners = []\n",
        "season = st.select_slider(\n",
        "     'Select an year',\n",
        "     options=seasons)\n",
        "st.write('Season - ', season)\n",
        "st.write('Season winner - ', matches[matches['season']==season].iloc[-1,:].winner) \n",
        "season_winners.append(matches[matches['season']==season].iloc[-1,:].winner)\n",
        "st.write('Total number of matches - ', matches[matches['season']==season]['id'].count())\n",
        "st.write('Matches won - ')\n",
        "st.write(matches[matches['season']==season]['winner'].value_counts())\n",
        "st.write(hr)\n",
        "\n",
        "\n",
        "st.subheader('Dismissal')\n",
        "dms_player = df_eda[df_eda['player_dismissed'] != 'None'][['player_dismissed','dismissal_kind']].value_counts().to_frame().reset_index()\n",
        "dms_player['count'] = dms_player[0]\n",
        "del dms_player[0]\n",
        "\n",
        "st.write('',dms_player)\n",
        "\n",
        "player_name = st.selectbox(\n",
        "     'Select a player',\n",
        "     players)\n",
        "dms_player[dms_player['player_dismissed'] == player_name]\n",
        "st.write(hr)\n",
        "\n",
        "st.subheader('Bowlers')\n",
        "bowlers = df_eda['bowler'].unique()\n",
        "bowler_dismiss = df_eda[df_eda['player_dismissed'] != 'None'][['bowler']].value_counts().to_frame().reset_index()\n",
        "bowler_dismiss['count'] = bowler_dismiss[0]\n",
        "del bowler_dismiss[0]\n",
        "bowler_name = st.selectbox('Number of outs by a bowler', bowlers)\n",
        "st.write(bowler_dismiss[bowler_dismiss['bowler']==bowler_name])\n",
        "st.write(hr)\n",
        "\n",
        "st.subheader('Deliveries')\n",
        "run_types = ['wide_runs','bye_runs','legbye_runs','noball_runs', 'penalty_runs', 'batsman_runs','extra_runs']\n",
        "run_type = st.selectbox('Select a category of run', run_types)\n",
        "rtb = df_eda.groupby(['season','bowler'])[run_type].sum().reset_index().sort_values(run_type, ascending=False)\n",
        "st.write(rtb[:1])\n",
        "st.write(hr)\n",
        "\n",
        "st.write('Which batsman has highest number of runs in all seasons')\n",
        "st.write(deliveries.groupby(['batsman'])['total_runs'].sum().reset_index().sort_values('total_runs', ascending=False)[:1])\n",
        "st.write(hr)\n",
        "st.write('How many runs by a player(batsman) in a season were batsman runs')\n",
        "bat_total = df_eda.groupby(['season','batsman'])[['batsman_runs','total_runs']].sum().reset_index()\n",
        "bat_total['bat_runs_percent'] = (bat_total['batsman_runs'])/(bat_total['total_runs'])\n",
        "player_name1 = st.selectbox('Select a player', players,key='p1')\n",
        "bat_total = bat_total[bat_total['batsman'] == player_name1]\n",
        "st.write(bat_total)\n",
        "season1 = st.select_slider('Select an year', options=seasons,key='s1')\n",
        "bat_total = bat_total[bat_total['season'] == season1]\n",
        "st.write(bat_total)\n",
        "\n",
        "st.write(hr)\n",
        "st.write('Which batsman has highest number of runs in per seasons, and in what season')\n",
        "st.write(df_eda.groupby(['season','batsman'])['total_runs'].sum().reset_index().sort_values('total_runs', ascending=False)[:1])\n",
        "\n",
        "st.write(hr)\n",
        "st.write('In which match, the highest number of runs were scored in an over')\n",
        "highest_run_over = deliveries.groupby(['match_id','inning','over','batsman'])['total_runs'].sum().reset_index().sort_values('total_runs', ascending=False)[:1]\n",
        "st.write(highest_run_over) \n",
        "cols = st.multiselect(\n",
        "     'Information about the match to be displayed',\n",
        "     matches.columns)\n",
        "matchID = highest_run_over['match_id']\n",
        "matches[(matches['id']==int(matchID))][cols]\n"
      ],
      "metadata": {
        "colab": {
          "base_uri": "https://localhost:8080/"
        },
        "id": "fjFbGHD6rmOy",
        "outputId": "a0bdf5d7-97be-4e69-9b43-c06b2d2da65f"
      },
      "execution_count": null,
      "outputs": [
        {
          "output_type": "stream",
          "name": "stdout",
          "text": [
            "Overwriting app.py\n"
          ]
        }
      ]
    },
    {
      "cell_type": "code",
      "source": [
        "!ls"
      ],
      "metadata": {
        "colab": {
          "base_uri": "https://localhost:8080/"
        },
        "id": "YGPb9o42pNBe",
        "outputId": "8b57922e-0748-498c-bd35-0fdeff41353c"
      },
      "execution_count": null,
      "outputs": [
        {
          "output_type": "stream",
          "name": "stdout",
          "text": [
            "deliveries.csv\tiplapp.py    ngrok-stable-linux-amd64.zip    sample_data\n",
            "gcapp.py\tmatches.csv  ngrok-stable-linux-amd64.zip.1\n",
            "gcmodel.h5\tngrok\t     ngrok-stable-linux-amd64.zip.2\n"
          ]
        }
      ]
    },
    {
      "cell_type": "markdown",
      "metadata": {
        "id": "encqGJ4u0FYG"
      },
      "source": [
        "## Install ngrok"
      ]
    },
    {
      "cell_type": "code",
      "source": [
        "!ngrok authtoken 2BWeZD23UX4URSa1orGf9pmX8Of_7zNhFiU6EfaDcJrDNnvN1"
      ],
      "metadata": {
        "colab": {
          "base_uri": "https://localhost:8080/"
        },
        "id": "X9dqVG3NsEVQ",
        "outputId": "b600ce68-e4ff-48c6-8dbd-cd37b0d5cfbf"
      },
      "execution_count": null,
      "outputs": [
        {
          "output_type": "stream",
          "name": "stdout",
          "text": [
            "Authtoken saved to configuration file: /root/.ngrok2/ngrok.yml\n"
          ]
        }
      ]
    },
    {
      "cell_type": "code",
      "metadata": {
        "id": "VSPUMEHYwqng",
        "colab": {
          "base_uri": "https://localhost:8080/"
        },
        "outputId": "3a0fa18b-4165-4fdc-eca6-f5b3d1c07f2b"
      },
      "source": [
        "!wget https://bin.equinox.io/c/4VmDzA7iaHb/ngrok-stable-linux-amd64.zip"
      ],
      "execution_count": null,
      "outputs": [
        {
          "output_type": "stream",
          "name": "stdout",
          "text": [
            "--2022-07-06 08:08:56--  https://bin.equinox.io/c/4VmDzA7iaHb/ngrok-stable-linux-amd64.zip\n",
            "Resolving bin.equinox.io (bin.equinox.io)... 54.161.241.46, 54.237.133.81, 52.202.168.65, ...\n",
            "Connecting to bin.equinox.io (bin.equinox.io)|54.161.241.46|:443... connected.\n",
            "HTTP request sent, awaiting response... 200 OK\n",
            "Length: 13832437 (13M) [application/octet-stream]\n",
            "Saving to: ‘ngrok-stable-linux-amd64.zip.2’\n",
            "\n",
            "ngrok-stable-linux- 100%[===================>]  13.19M  10.4MB/s    in 1.3s    \n",
            "\n",
            "2022-07-06 08:08:58 (10.4 MB/s) - ‘ngrok-stable-linux-amd64.zip.2’ saved [13832437/13832437]\n",
            "\n"
          ]
        }
      ]
    },
    {
      "cell_type": "code",
      "metadata": {
        "id": "6679q_6fwsJH",
        "colab": {
          "base_uri": "https://localhost:8080/"
        },
        "outputId": "6f90d42f-1ec9-4aa3-9c73-648f14bb6089"
      },
      "source": [
        "!unzip ngrok-stable-linux-amd64.zip"
      ],
      "execution_count": null,
      "outputs": [
        {
          "output_type": "stream",
          "name": "stdout",
          "text": [
            "Archive:  ngrok-stable-linux-amd64.zip\n",
            "replace ngrok? [y]es, [n]o, [A]ll, [N]one, [r]ename: n\n"
          ]
        }
      ]
    },
    {
      "cell_type": "code",
      "metadata": {
        "id": "qGCM2OjvxNit"
      },
      "source": [
        "get_ipython().system_raw('./ngrok http 8501 &')"
      ],
      "execution_count": null,
      "outputs": []
    },
    {
      "cell_type": "code",
      "metadata": {
        "id": "bxwv00hdxedU",
        "colab": {
          "base_uri": "https://localhost:8080/"
        },
        "outputId": "75f98eae-aaa8-4708-831b-b602778d0b36"
      },
      "source": [
        "!curl -s http://localhost:4040/api/tunnels | python3 -c \\\n",
        "    'import sys, json; print(\"Execute the next cell and the go to the following URL: \" +json.load(sys.stdin)[\"tunnels\"][0][\"public_url\"])'"
      ],
      "execution_count": null,
      "outputs": [
        {
          "output_type": "stream",
          "name": "stdout",
          "text": [
            "Execute the next cell and the go to the following URL: https://76cd-34-125-174-195.ngrok.io\n"
          ]
        }
      ]
    },
    {
      "cell_type": "markdown",
      "source": [
        "Running application"
      ],
      "metadata": {
        "id": "_J3rmwU_eEFe"
      }
    },
    {
      "cell_type": "code",
      "source": [
        "!streamlit run /content/app.py &>/dev/null&"
      ],
      "metadata": {
        "id": "jflIawROeKI5"
      },
      "execution_count": null,
      "outputs": []
    },
    {
      "cell_type": "code",
      "source": [
        "!pgrep streamlit"
      ],
      "metadata": {
        "colab": {
          "base_uri": "https://localhost:8080/"
        },
        "id": "I-yeg-HrpCM_",
        "outputId": "dd4298af-4570-40fb-cdab-851c01eb7299"
      },
      "execution_count": null,
      "outputs": [
        {
          "output_type": "stream",
          "name": "stdout",
          "text": [
            "368\n",
            "426\n",
            "520\n",
            "574\n",
            "590\n",
            "660\n",
            "1121\n",
            "1211\n",
            "1317\n",
            "1375\n"
          ]
        }
      ]
    },
    {
      "cell_type": "code",
      "source": [
        ""
      ],
      "metadata": {
        "id": "h94YPj2Xkb4S"
      },
      "execution_count": null,
      "outputs": []
    }
  ]
}