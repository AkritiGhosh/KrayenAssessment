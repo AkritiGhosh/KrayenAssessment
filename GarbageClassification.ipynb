{
  "cells": [
    {
      "cell_type": "markdown",
      "metadata": {
        "id": "ghL_J27PHNTl"
      },
      "source": [
        "# Kaggle API Processing to download dataset"
      ]
    },
    {
      "cell_type": "code",
      "execution_count": 1,
      "metadata": {
        "colab": {
          "base_uri": "https://localhost:8080/"
        },
        "id": "W3WAw4IDwOB5",
        "outputId": "7fd39c4b-db77-4bbc-9525-815d01d38185"
      },
      "outputs": [
        {
          "output_type": "stream",
          "name": "stdout",
          "text": [
            "Looking in indexes: https://pypi.org/simple, https://us-python.pkg.dev/colab-wheels/public/simple/\n",
            "Requirement already satisfied: kaggle in /usr/local/lib/python3.7/dist-packages (1.5.12)\n",
            "Requirement already satisfied: python-dateutil in /usr/local/lib/python3.7/dist-packages (from kaggle) (2.8.2)\n",
            "Requirement already satisfied: six>=1.10 in /usr/local/lib/python3.7/dist-packages (from kaggle) (1.15.0)\n",
            "Requirement already satisfied: certifi in /usr/local/lib/python3.7/dist-packages (from kaggle) (2022.6.15)\n",
            "Requirement already satisfied: requests in /usr/local/lib/python3.7/dist-packages (from kaggle) (2.23.0)\n",
            "Requirement already satisfied: urllib3 in /usr/local/lib/python3.7/dist-packages (from kaggle) (1.24.3)\n",
            "Requirement already satisfied: tqdm in /usr/local/lib/python3.7/dist-packages (from kaggle) (4.64.0)\n",
            "Requirement already satisfied: python-slugify in /usr/local/lib/python3.7/dist-packages (from kaggle) (6.1.2)\n",
            "Requirement already satisfied: text-unidecode>=1.3 in /usr/local/lib/python3.7/dist-packages (from python-slugify->kaggle) (1.3)\n",
            "Requirement already satisfied: chardet<4,>=3.0.2 in /usr/local/lib/python3.7/dist-packages (from requests->kaggle) (3.0.4)\n",
            "Requirement already satisfied: idna<3,>=2.5 in /usr/local/lib/python3.7/dist-packages (from requests->kaggle) (2.10)\n"
          ]
        }
      ],
      "source": [
        "!pip install kaggle\n",
        "# Create .kaggle folder in ../root directory\n",
        "!mkdir ~/.kaggle"
      ]
    },
    {
      "cell_type": "code",
      "execution_count": 2,
      "metadata": {
        "colab": {
          "base_uri": "https://localhost:8080/",
          "height": 92,
          "resources": {
            "http://localhost:8080/nbextensions/google.colab/files.js": {
              "data": "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",
              "headers": [
                [
                  "content-type",
                  "application/javascript"
                ]
              ],
              "ok": true,
              "status": 200,
              "status_text": ""
            }
          }
        },
        "id": "LJapsMyGxomF",
        "outputId": "c7bffa0d-68fd-4f15-c1d0-721ee5e97ab5"
      },
      "outputs": [
        {
          "output_type": "display_data",
          "data": {
            "text/plain": [
              "<IPython.core.display.HTML object>"
            ],
            "text/html": [
              "\n",
              "     <input type=\"file\" id=\"files-bf71a9fa-f4d4-4f29-809a-cb9be94deb31\" name=\"files[]\" multiple disabled\n",
              "        style=\"border:none\" />\n",
              "     <output id=\"result-bf71a9fa-f4d4-4f29-809a-cb9be94deb31\">\n",
              "      Upload widget is only available when the cell has been executed in the\n",
              "      current browser session. Please rerun this cell to enable.\n",
              "      </output>\n",
              "      <script src=\"/nbextensions/google.colab/files.js\"></script> "
            ]
          },
          "metadata": {}
        },
        {
          "output_type": "stream",
          "name": "stdout",
          "text": [
            "Saving kaggle.json to kaggle.json\n"
          ]
        },
        {
          "output_type": "execute_result",
          "data": {
            "text/plain": [
              "{'kaggle.json': b'{\"username\":\"akritighosh\",\"key\":\"6338b709da906e0e129e6ff19fe17260\"}'}"
            ]
          },
          "metadata": {},
          "execution_count": 2
        }
      ],
      "source": [
        "# Upload kaggle.json => Personal API Token downloaded from kaggle\n",
        "from google.colab import files\n",
        "files.upload()"
      ]
    },
    {
      "cell_type": "code",
      "execution_count": 3,
      "metadata": {
        "id": "_fksZQyux2Xb"
      },
      "outputs": [],
      "source": [
        "# Copy kaggle.json file to created .kaggle folder\n",
        "!cp kaggle.json ~/.kaggle/\n",
        "# Change permissions for the file\n",
        "!chmod 600 ~/.kaggle/kaggle.json"
      ]
    },
    {
      "cell_type": "markdown",
      "metadata": {
        "id": "yrCwjBL3Hu3h"
      },
      "source": [
        "## Download dataset zip "
      ]
    },
    {
      "cell_type": "code",
      "execution_count": 4,
      "metadata": {
        "colab": {
          "base_uri": "https://localhost:8080/"
        },
        "id": "eXDtJODDyGQx",
        "outputId": "0a21296a-8079-4089-db16-9efebfae216f"
      },
      "outputs": [
        {
          "output_type": "stream",
          "name": "stdout",
          "text": [
            "Downloading garbage-classification.zip to /content\n",
            " 70% 57.0M/82.0M [00:00<00:00, 101MB/s] \n",
            "100% 82.0M/82.0M [00:00<00:00, 117MB/s]\n"
          ]
        }
      ],
      "source": [
        "!kaggle datasets download asdasdasasdas/garbage-classification"
      ]
    },
    {
      "cell_type": "markdown",
      "metadata": {
        "id": "crwHDWCSHs4z"
      },
      "source": [
        "## Unzip the compressed dataset"
      ]
    },
    {
      "cell_type": "code",
      "execution_count": null,
      "metadata": {
        "id": "AhUp3LFsy4vE"
      },
      "outputs": [],
      "source": [
        "!unzip garbage-classification.zip -d data"
      ]
    },
    {
      "cell_type": "markdown",
      "metadata": {
        "id": "OJwoh8rBH7Pi"
      },
      "source": [
        "## Delete duplicate image folder"
      ]
    },
    {
      "cell_type": "code",
      "execution_count": 7,
      "metadata": {
        "id": "QTaRhyc0IAZz"
      },
      "outputs": [],
      "source": [
        "!rm -rf '/content/data/Garbage classification'"
      ]
    },
    {
      "cell_type": "markdown",
      "metadata": {
        "id": "y9VszShUIDSu"
      },
      "source": [
        "# Import necessary libraries"
      ]
    },
    {
      "cell_type": "code",
      "execution_count": 8,
      "metadata": {
        "id": "dbsGrz-q2DJY"
      },
      "outputs": [],
      "source": [
        "# Interacting with the operating system and perform file management tasks\n",
        "import shutil\n",
        "# To create, edit and process dataset from csv files\n",
        "import pandas as pd\n",
        "# For mathematical operations and multidimensional arrays\n",
        "import numpy as np\n",
        "import math\n",
        "# For image augmentation\n",
        "from tensorflow.keras.preprocessing.image import  load_img, img_to_array, ImageDataGenerator\n",
        "# For creating model\n",
        "import tensorflow as tf"
      ]
    },
    {
      "cell_type": "markdown",
      "metadata": {
        "id": "p7C0-cC8Z5oP"
      },
      "source": [
        "# Import labelled data for train, validation and test dataset"
      ]
    },
    {
      "cell_type": "code",
      "execution_count": 9,
      "metadata": {
        "id": "Yg2cPtIW3A29"
      },
      "outputs": [],
      "source": [
        "classes = {1:'glass', 2:'paper',3:'cardboard',4:'plastic',5:'metal',6:'trash'}"
      ]
    },
    {
      "cell_type": "code",
      "execution_count": 10,
      "metadata": {
        "id": "1x96ylbFzZVO"
      },
      "outputs": [],
      "source": [
        "df = pd.read_csv('/content/data/one-indexed-files.txt',   header=None, names=['File','Label'], sep=' ')\n",
        "df_train = pd.read_csv('/content/data/one-indexed-files-notrash_train.txt',   header=None, names=['File','Label'], sep=' ')\n",
        "df_val = pd.read_csv('/content/data/one-indexed-files-notrash_val.txt',   header=None, names=['File','Label'], sep=' ')\n",
        "df_test = pd.read_csv('/content/data/one-indexed-files-notrash_test.txt',   header=None, names=['File','Label'], sep=' ')"
      ]
    },
    {
      "cell_type": "markdown",
      "metadata": {
        "id": "p8nw0Q-DQBte"
      },
      "source": [
        "## Train dataset"
      ]
    },
    {
      "cell_type": "code",
      "execution_count": 11,
      "metadata": {
        "colab": {
          "base_uri": "https://localhost:8080/",
          "height": 620
        },
        "id": "Cp8rREVQ2b2k",
        "outputId": "60ea161b-fc3f-4dae-a2bb-c16f30b84412"
      },
      "outputs": [
        {
          "output_type": "stream",
          "name": "stdout",
          "text": [
            "<class 'pandas.core.frame.DataFrame'>\n",
            "RangeIndex: 1768 entries, 0 to 1767\n",
            "Data columns (total 2 columns):\n",
            " #   Column  Non-Null Count  Dtype \n",
            "---  ------  --------------  ----- \n",
            " 0   File    1768 non-null   object\n",
            " 1   Label   1768 non-null   int64 \n",
            "dtypes: int64(1), object(1)\n",
            "memory usage: 27.8+ KB\n",
            "None\n",
            "No of rows 1768\n"
          ]
        },
        {
          "output_type": "execute_result",
          "data": {
            "text/plain": [
              "                  File  Label\n",
              "0     cardboard202.jpg      3\n",
              "1         paper472.jpg      2\n",
              "2         paper522.jpg      2\n",
              "3         glass189.jpg      1\n",
              "4         glass325.jpg      1\n",
              "...                ...    ...\n",
              "1763    cardboard6.jpg      3\n",
              "1764      glass283.jpg      1\n",
              "1765      metal335.jpg      5\n",
              "1766    plastic133.jpg      4\n",
              "1767      paper442.jpg      2\n",
              "\n",
              "[1768 rows x 2 columns]"
            ],
            "text/html": [
              "\n",
              "  <div id=\"df-5a700ffa-d6d0-4394-90b5-20099f1ea412\">\n",
              "    <div class=\"colab-df-container\">\n",
              "      <div>\n",
              "<style scoped>\n",
              "    .dataframe tbody tr th:only-of-type {\n",
              "        vertical-align: middle;\n",
              "    }\n",
              "\n",
              "    .dataframe tbody tr th {\n",
              "        vertical-align: top;\n",
              "    }\n",
              "\n",
              "    .dataframe thead th {\n",
              "        text-align: right;\n",
              "    }\n",
              "</style>\n",
              "<table border=\"1\" class=\"dataframe\">\n",
              "  <thead>\n",
              "    <tr style=\"text-align: right;\">\n",
              "      <th></th>\n",
              "      <th>File</th>\n",
              "      <th>Label</th>\n",
              "    </tr>\n",
              "  </thead>\n",
              "  <tbody>\n",
              "    <tr>\n",
              "      <th>0</th>\n",
              "      <td>cardboard202.jpg</td>\n",
              "      <td>3</td>\n",
              "    </tr>\n",
              "    <tr>\n",
              "      <th>1</th>\n",
              "      <td>paper472.jpg</td>\n",
              "      <td>2</td>\n",
              "    </tr>\n",
              "    <tr>\n",
              "      <th>2</th>\n",
              "      <td>paper522.jpg</td>\n",
              "      <td>2</td>\n",
              "    </tr>\n",
              "    <tr>\n",
              "      <th>3</th>\n",
              "      <td>glass189.jpg</td>\n",
              "      <td>1</td>\n",
              "    </tr>\n",
              "    <tr>\n",
              "      <th>4</th>\n",
              "      <td>glass325.jpg</td>\n",
              "      <td>1</td>\n",
              "    </tr>\n",
              "    <tr>\n",
              "      <th>...</th>\n",
              "      <td>...</td>\n",
              "      <td>...</td>\n",
              "    </tr>\n",
              "    <tr>\n",
              "      <th>1763</th>\n",
              "      <td>cardboard6.jpg</td>\n",
              "      <td>3</td>\n",
              "    </tr>\n",
              "    <tr>\n",
              "      <th>1764</th>\n",
              "      <td>glass283.jpg</td>\n",
              "      <td>1</td>\n",
              "    </tr>\n",
              "    <tr>\n",
              "      <th>1765</th>\n",
              "      <td>metal335.jpg</td>\n",
              "      <td>5</td>\n",
              "    </tr>\n",
              "    <tr>\n",
              "      <th>1766</th>\n",
              "      <td>plastic133.jpg</td>\n",
              "      <td>4</td>\n",
              "    </tr>\n",
              "    <tr>\n",
              "      <th>1767</th>\n",
              "      <td>paper442.jpg</td>\n",
              "      <td>2</td>\n",
              "    </tr>\n",
              "  </tbody>\n",
              "</table>\n",
              "<p>1768 rows × 2 columns</p>\n",
              "</div>\n",
              "      <button class=\"colab-df-convert\" onclick=\"convertToInteractive('df-5a700ffa-d6d0-4394-90b5-20099f1ea412')\"\n",
              "              title=\"Convert this dataframe to an interactive table.\"\n",
              "              style=\"display:none;\">\n",
              "        \n",
              "  <svg xmlns=\"http://www.w3.org/2000/svg\" height=\"24px\"viewBox=\"0 0 24 24\"\n",
              "       width=\"24px\">\n",
              "    <path d=\"M0 0h24v24H0V0z\" fill=\"none\"/>\n",
              "    <path d=\"M18.56 5.44l.94 2.06.94-2.06 2.06-.94-2.06-.94-.94-2.06-.94 2.06-2.06.94zm-11 1L8.5 8.5l.94-2.06 2.06-.94-2.06-.94L8.5 2.5l-.94 2.06-2.06.94zm10 10l.94 2.06.94-2.06 2.06-.94-2.06-.94-.94-2.06-.94 2.06-2.06.94z\"/><path d=\"M17.41 7.96l-1.37-1.37c-.4-.4-.92-.59-1.43-.59-.52 0-1.04.2-1.43.59L10.3 9.45l-7.72 7.72c-.78.78-.78 2.05 0 2.83L4 21.41c.39.39.9.59 1.41.59.51 0 1.02-.2 1.41-.59l7.78-7.78 2.81-2.81c.8-.78.8-2.07 0-2.86zM5.41 20L4 18.59l7.72-7.72 1.47 1.35L5.41 20z\"/>\n",
              "  </svg>\n",
              "      </button>\n",
              "      \n",
              "  <style>\n",
              "    .colab-df-container {\n",
              "      display:flex;\n",
              "      flex-wrap:wrap;\n",
              "      gap: 12px;\n",
              "    }\n",
              "\n",
              "    .colab-df-convert {\n",
              "      background-color: #E8F0FE;\n",
              "      border: none;\n",
              "      border-radius: 50%;\n",
              "      cursor: pointer;\n",
              "      display: none;\n",
              "      fill: #1967D2;\n",
              "      height: 32px;\n",
              "      padding: 0 0 0 0;\n",
              "      width: 32px;\n",
              "    }\n",
              "\n",
              "    .colab-df-convert:hover {\n",
              "      background-color: #E2EBFA;\n",
              "      box-shadow: 0px 1px 2px rgba(60, 64, 67, 0.3), 0px 1px 3px 1px rgba(60, 64, 67, 0.15);\n",
              "      fill: #174EA6;\n",
              "    }\n",
              "\n",
              "    [theme=dark] .colab-df-convert {\n",
              "      background-color: #3B4455;\n",
              "      fill: #D2E3FC;\n",
              "    }\n",
              "\n",
              "    [theme=dark] .colab-df-convert:hover {\n",
              "      background-color: #434B5C;\n",
              "      box-shadow: 0px 1px 3px 1px rgba(0, 0, 0, 0.15);\n",
              "      filter: drop-shadow(0px 1px 2px rgba(0, 0, 0, 0.3));\n",
              "      fill: #FFFFFF;\n",
              "    }\n",
              "  </style>\n",
              "\n",
              "      <script>\n",
              "        const buttonEl =\n",
              "          document.querySelector('#df-5a700ffa-d6d0-4394-90b5-20099f1ea412 button.colab-df-convert');\n",
              "        buttonEl.style.display =\n",
              "          google.colab.kernel.accessAllowed ? 'block' : 'none';\n",
              "\n",
              "        async function convertToInteractive(key) {\n",
              "          const element = document.querySelector('#df-5a700ffa-d6d0-4394-90b5-20099f1ea412');\n",
              "          const dataTable =\n",
              "            await google.colab.kernel.invokeFunction('convertToInteractive',\n",
              "                                                     [key], {});\n",
              "          if (!dataTable) return;\n",
              "\n",
              "          const docLinkHtml = 'Like what you see? Visit the ' +\n",
              "            '<a target=\"_blank\" href=https://colab.research.google.com/notebooks/data_table.ipynb>data table notebook</a>'\n",
              "            + ' to learn more about interactive tables.';\n",
              "          element.innerHTML = '';\n",
              "          dataTable['output_type'] = 'display_data';\n",
              "          await google.colab.output.renderOutput(dataTable, element);\n",
              "          const docLink = document.createElement('div');\n",
              "          docLink.innerHTML = docLinkHtml;\n",
              "          element.appendChild(docLink);\n",
              "        }\n",
              "      </script>\n",
              "    </div>\n",
              "  </div>\n",
              "  "
            ]
          },
          "metadata": {},
          "execution_count": 11
        }
      ],
      "source": [
        "# Dataframe info\n",
        "print(df_train.info())\n",
        "# Get shape\n",
        "print('No of rows', df_train.shape[0])\n",
        "df_train"
      ]
    },
    {
      "cell_type": "markdown",
      "metadata": {
        "id": "AqCMckjnQO43"
      },
      "source": [
        "## Validation dataset"
      ]
    },
    {
      "cell_type": "code",
      "execution_count": 12,
      "metadata": {
        "colab": {
          "base_uri": "https://localhost:8080/",
          "height": 620
        },
        "id": "bOcza28wQO44",
        "outputId": "53b38789-dfe8-4972-9f96-c6cf670bbf2e"
      },
      "outputs": [
        {
          "output_type": "stream",
          "name": "stdout",
          "text": [
            "<class 'pandas.core.frame.DataFrame'>\n",
            "RangeIndex: 328 entries, 0 to 327\n",
            "Data columns (total 2 columns):\n",
            " #   Column  Non-Null Count  Dtype \n",
            "---  ------  --------------  ----- \n",
            " 0   File    328 non-null    object\n",
            " 1   Label   328 non-null    int64 \n",
            "dtypes: int64(1), object(1)\n",
            "memory usage: 5.2+ KB\n",
            "None\n",
            "No of rows 328\n"
          ]
        },
        {
          "output_type": "execute_result",
          "data": {
            "text/plain": [
              "                 File  Label\n",
              "0    cardboard114.jpg      3\n",
              "1      plastic204.jpg      4\n",
              "2        glass123.jpg      1\n",
              "3        glass152.jpg      1\n",
              "4        glass398.jpg      1\n",
              "..                ...    ...\n",
              "323       metal58.jpg      5\n",
              "324  cardboard149.jpg      3\n",
              "325      plastic5.jpg      4\n",
              "326       glass23.jpg      1\n",
              "327      paper109.jpg      2\n",
              "\n",
              "[328 rows x 2 columns]"
            ],
            "text/html": [
              "\n",
              "  <div id=\"df-39e88dc2-ae62-45ee-a0f4-2bd2b4a77f34\">\n",
              "    <div class=\"colab-df-container\">\n",
              "      <div>\n",
              "<style scoped>\n",
              "    .dataframe tbody tr th:only-of-type {\n",
              "        vertical-align: middle;\n",
              "    }\n",
              "\n",
              "    .dataframe tbody tr th {\n",
              "        vertical-align: top;\n",
              "    }\n",
              "\n",
              "    .dataframe thead th {\n",
              "        text-align: right;\n",
              "    }\n",
              "</style>\n",
              "<table border=\"1\" class=\"dataframe\">\n",
              "  <thead>\n",
              "    <tr style=\"text-align: right;\">\n",
              "      <th></th>\n",
              "      <th>File</th>\n",
              "      <th>Label</th>\n",
              "    </tr>\n",
              "  </thead>\n",
              "  <tbody>\n",
              "    <tr>\n",
              "      <th>0</th>\n",
              "      <td>cardboard114.jpg</td>\n",
              "      <td>3</td>\n",
              "    </tr>\n",
              "    <tr>\n",
              "      <th>1</th>\n",
              "      <td>plastic204.jpg</td>\n",
              "      <td>4</td>\n",
              "    </tr>\n",
              "    <tr>\n",
              "      <th>2</th>\n",
              "      <td>glass123.jpg</td>\n",
              "      <td>1</td>\n",
              "    </tr>\n",
              "    <tr>\n",
              "      <th>3</th>\n",
              "      <td>glass152.jpg</td>\n",
              "      <td>1</td>\n",
              "    </tr>\n",
              "    <tr>\n",
              "      <th>4</th>\n",
              "      <td>glass398.jpg</td>\n",
              "      <td>1</td>\n",
              "    </tr>\n",
              "    <tr>\n",
              "      <th>...</th>\n",
              "      <td>...</td>\n",
              "      <td>...</td>\n",
              "    </tr>\n",
              "    <tr>\n",
              "      <th>323</th>\n",
              "      <td>metal58.jpg</td>\n",
              "      <td>5</td>\n",
              "    </tr>\n",
              "    <tr>\n",
              "      <th>324</th>\n",
              "      <td>cardboard149.jpg</td>\n",
              "      <td>3</td>\n",
              "    </tr>\n",
              "    <tr>\n",
              "      <th>325</th>\n",
              "      <td>plastic5.jpg</td>\n",
              "      <td>4</td>\n",
              "    </tr>\n",
              "    <tr>\n",
              "      <th>326</th>\n",
              "      <td>glass23.jpg</td>\n",
              "      <td>1</td>\n",
              "    </tr>\n",
              "    <tr>\n",
              "      <th>327</th>\n",
              "      <td>paper109.jpg</td>\n",
              "      <td>2</td>\n",
              "    </tr>\n",
              "  </tbody>\n",
              "</table>\n",
              "<p>328 rows × 2 columns</p>\n",
              "</div>\n",
              "      <button class=\"colab-df-convert\" onclick=\"convertToInteractive('df-39e88dc2-ae62-45ee-a0f4-2bd2b4a77f34')\"\n",
              "              title=\"Convert this dataframe to an interactive table.\"\n",
              "              style=\"display:none;\">\n",
              "        \n",
              "  <svg xmlns=\"http://www.w3.org/2000/svg\" height=\"24px\"viewBox=\"0 0 24 24\"\n",
              "       width=\"24px\">\n",
              "    <path d=\"M0 0h24v24H0V0z\" fill=\"none\"/>\n",
              "    <path d=\"M18.56 5.44l.94 2.06.94-2.06 2.06-.94-2.06-.94-.94-2.06-.94 2.06-2.06.94zm-11 1L8.5 8.5l.94-2.06 2.06-.94-2.06-.94L8.5 2.5l-.94 2.06-2.06.94zm10 10l.94 2.06.94-2.06 2.06-.94-2.06-.94-.94-2.06-.94 2.06-2.06.94z\"/><path d=\"M17.41 7.96l-1.37-1.37c-.4-.4-.92-.59-1.43-.59-.52 0-1.04.2-1.43.59L10.3 9.45l-7.72 7.72c-.78.78-.78 2.05 0 2.83L4 21.41c.39.39.9.59 1.41.59.51 0 1.02-.2 1.41-.59l7.78-7.78 2.81-2.81c.8-.78.8-2.07 0-2.86zM5.41 20L4 18.59l7.72-7.72 1.47 1.35L5.41 20z\"/>\n",
              "  </svg>\n",
              "      </button>\n",
              "      \n",
              "  <style>\n",
              "    .colab-df-container {\n",
              "      display:flex;\n",
              "      flex-wrap:wrap;\n",
              "      gap: 12px;\n",
              "    }\n",
              "\n",
              "    .colab-df-convert {\n",
              "      background-color: #E8F0FE;\n",
              "      border: none;\n",
              "      border-radius: 50%;\n",
              "      cursor: pointer;\n",
              "      display: none;\n",
              "      fill: #1967D2;\n",
              "      height: 32px;\n",
              "      padding: 0 0 0 0;\n",
              "      width: 32px;\n",
              "    }\n",
              "\n",
              "    .colab-df-convert:hover {\n",
              "      background-color: #E2EBFA;\n",
              "      box-shadow: 0px 1px 2px rgba(60, 64, 67, 0.3), 0px 1px 3px 1px rgba(60, 64, 67, 0.15);\n",
              "      fill: #174EA6;\n",
              "    }\n",
              "\n",
              "    [theme=dark] .colab-df-convert {\n",
              "      background-color: #3B4455;\n",
              "      fill: #D2E3FC;\n",
              "    }\n",
              "\n",
              "    [theme=dark] .colab-df-convert:hover {\n",
              "      background-color: #434B5C;\n",
              "      box-shadow: 0px 1px 3px 1px rgba(0, 0, 0, 0.15);\n",
              "      filter: drop-shadow(0px 1px 2px rgba(0, 0, 0, 0.3));\n",
              "      fill: #FFFFFF;\n",
              "    }\n",
              "  </style>\n",
              "\n",
              "      <script>\n",
              "        const buttonEl =\n",
              "          document.querySelector('#df-39e88dc2-ae62-45ee-a0f4-2bd2b4a77f34 button.colab-df-convert');\n",
              "        buttonEl.style.display =\n",
              "          google.colab.kernel.accessAllowed ? 'block' : 'none';\n",
              "\n",
              "        async function convertToInteractive(key) {\n",
              "          const element = document.querySelector('#df-39e88dc2-ae62-45ee-a0f4-2bd2b4a77f34');\n",
              "          const dataTable =\n",
              "            await google.colab.kernel.invokeFunction('convertToInteractive',\n",
              "                                                     [key], {});\n",
              "          if (!dataTable) return;\n",
              "\n",
              "          const docLinkHtml = 'Like what you see? Visit the ' +\n",
              "            '<a target=\"_blank\" href=https://colab.research.google.com/notebooks/data_table.ipynb>data table notebook</a>'\n",
              "            + ' to learn more about interactive tables.';\n",
              "          element.innerHTML = '';\n",
              "          dataTable['output_type'] = 'display_data';\n",
              "          await google.colab.output.renderOutput(dataTable, element);\n",
              "          const docLink = document.createElement('div');\n",
              "          docLink.innerHTML = docLinkHtml;\n",
              "          element.appendChild(docLink);\n",
              "        }\n",
              "      </script>\n",
              "    </div>\n",
              "  </div>\n",
              "  "
            ]
          },
          "metadata": {},
          "execution_count": 12
        }
      ],
      "source": [
        "# Dataframe info\n",
        "print(df_val.info())\n",
        "# Get shape\n",
        "print('No of rows', df_val.shape[0])\n",
        "df_val"
      ]
    },
    {
      "cell_type": "markdown",
      "metadata": {
        "id": "Nm3vAO8mQHCY"
      },
      "source": [
        "## Test dataset"
      ]
    },
    {
      "cell_type": "code",
      "execution_count": 13,
      "metadata": {
        "colab": {
          "base_uri": "https://localhost:8080/",
          "height": 620
        },
        "id": "IALZ2YoAQHCZ",
        "outputId": "ac159857-c477-46ae-9d15-589f77edac1a"
      },
      "outputs": [
        {
          "output_type": "stream",
          "name": "stdout",
          "text": [
            "<class 'pandas.core.frame.DataFrame'>\n",
            "RangeIndex: 431 entries, 0 to 430\n",
            "Data columns (total 2 columns):\n",
            " #   Column  Non-Null Count  Dtype \n",
            "---  ------  --------------  ----- \n",
            " 0   File    431 non-null    object\n",
            " 1   Label   431 non-null    int64 \n",
            "dtypes: int64(1), object(1)\n",
            "memory usage: 6.9+ KB\n",
            "None\n",
            "No of rows 431\n"
          ]
        },
        {
          "output_type": "execute_result",
          "data": {
            "text/plain": [
              "                File  Label\n",
              "0        paper70.jpg      2\n",
              "1       paper380.jpg      2\n",
              "2    cardboard31.jpg      3\n",
              "3        glass12.jpg      1\n",
              "4       paper169.jpg      2\n",
              "..               ...    ...\n",
              "426     metal389.jpg      5\n",
              "427     paper303.jpg      2\n",
              "428     paper405.jpg      2\n",
              "429     paper465.jpg      2\n",
              "430     trash132.jpg      6\n",
              "\n",
              "[431 rows x 2 columns]"
            ],
            "text/html": [
              "\n",
              "  <div id=\"df-fdfb4923-e633-46be-9633-ff52d782a0f2\">\n",
              "    <div class=\"colab-df-container\">\n",
              "      <div>\n",
              "<style scoped>\n",
              "    .dataframe tbody tr th:only-of-type {\n",
              "        vertical-align: middle;\n",
              "    }\n",
              "\n",
              "    .dataframe tbody tr th {\n",
              "        vertical-align: top;\n",
              "    }\n",
              "\n",
              "    .dataframe thead th {\n",
              "        text-align: right;\n",
              "    }\n",
              "</style>\n",
              "<table border=\"1\" class=\"dataframe\">\n",
              "  <thead>\n",
              "    <tr style=\"text-align: right;\">\n",
              "      <th></th>\n",
              "      <th>File</th>\n",
              "      <th>Label</th>\n",
              "    </tr>\n",
              "  </thead>\n",
              "  <tbody>\n",
              "    <tr>\n",
              "      <th>0</th>\n",
              "      <td>paper70.jpg</td>\n",
              "      <td>2</td>\n",
              "    </tr>\n",
              "    <tr>\n",
              "      <th>1</th>\n",
              "      <td>paper380.jpg</td>\n",
              "      <td>2</td>\n",
              "    </tr>\n",
              "    <tr>\n",
              "      <th>2</th>\n",
              "      <td>cardboard31.jpg</td>\n",
              "      <td>3</td>\n",
              "    </tr>\n",
              "    <tr>\n",
              "      <th>3</th>\n",
              "      <td>glass12.jpg</td>\n",
              "      <td>1</td>\n",
              "    </tr>\n",
              "    <tr>\n",
              "      <th>4</th>\n",
              "      <td>paper169.jpg</td>\n",
              "      <td>2</td>\n",
              "    </tr>\n",
              "    <tr>\n",
              "      <th>...</th>\n",
              "      <td>...</td>\n",
              "      <td>...</td>\n",
              "    </tr>\n",
              "    <tr>\n",
              "      <th>426</th>\n",
              "      <td>metal389.jpg</td>\n",
              "      <td>5</td>\n",
              "    </tr>\n",
              "    <tr>\n",
              "      <th>427</th>\n",
              "      <td>paper303.jpg</td>\n",
              "      <td>2</td>\n",
              "    </tr>\n",
              "    <tr>\n",
              "      <th>428</th>\n",
              "      <td>paper405.jpg</td>\n",
              "      <td>2</td>\n",
              "    </tr>\n",
              "    <tr>\n",
              "      <th>429</th>\n",
              "      <td>paper465.jpg</td>\n",
              "      <td>2</td>\n",
              "    </tr>\n",
              "    <tr>\n",
              "      <th>430</th>\n",
              "      <td>trash132.jpg</td>\n",
              "      <td>6</td>\n",
              "    </tr>\n",
              "  </tbody>\n",
              "</table>\n",
              "<p>431 rows × 2 columns</p>\n",
              "</div>\n",
              "      <button class=\"colab-df-convert\" onclick=\"convertToInteractive('df-fdfb4923-e633-46be-9633-ff52d782a0f2')\"\n",
              "              title=\"Convert this dataframe to an interactive table.\"\n",
              "              style=\"display:none;\">\n",
              "        \n",
              "  <svg xmlns=\"http://www.w3.org/2000/svg\" height=\"24px\"viewBox=\"0 0 24 24\"\n",
              "       width=\"24px\">\n",
              "    <path d=\"M0 0h24v24H0V0z\" fill=\"none\"/>\n",
              "    <path d=\"M18.56 5.44l.94 2.06.94-2.06 2.06-.94-2.06-.94-.94-2.06-.94 2.06-2.06.94zm-11 1L8.5 8.5l.94-2.06 2.06-.94-2.06-.94L8.5 2.5l-.94 2.06-2.06.94zm10 10l.94 2.06.94-2.06 2.06-.94-2.06-.94-.94-2.06-.94 2.06-2.06.94z\"/><path d=\"M17.41 7.96l-1.37-1.37c-.4-.4-.92-.59-1.43-.59-.52 0-1.04.2-1.43.59L10.3 9.45l-7.72 7.72c-.78.78-.78 2.05 0 2.83L4 21.41c.39.39.9.59 1.41.59.51 0 1.02-.2 1.41-.59l7.78-7.78 2.81-2.81c.8-.78.8-2.07 0-2.86zM5.41 20L4 18.59l7.72-7.72 1.47 1.35L5.41 20z\"/>\n",
              "  </svg>\n",
              "      </button>\n",
              "      \n",
              "  <style>\n",
              "    .colab-df-container {\n",
              "      display:flex;\n",
              "      flex-wrap:wrap;\n",
              "      gap: 12px;\n",
              "    }\n",
              "\n",
              "    .colab-df-convert {\n",
              "      background-color: #E8F0FE;\n",
              "      border: none;\n",
              "      border-radius: 50%;\n",
              "      cursor: pointer;\n",
              "      display: none;\n",
              "      fill: #1967D2;\n",
              "      height: 32px;\n",
              "      padding: 0 0 0 0;\n",
              "      width: 32px;\n",
              "    }\n",
              "\n",
              "    .colab-df-convert:hover {\n",
              "      background-color: #E2EBFA;\n",
              "      box-shadow: 0px 1px 2px rgba(60, 64, 67, 0.3), 0px 1px 3px 1px rgba(60, 64, 67, 0.15);\n",
              "      fill: #174EA6;\n",
              "    }\n",
              "\n",
              "    [theme=dark] .colab-df-convert {\n",
              "      background-color: #3B4455;\n",
              "      fill: #D2E3FC;\n",
              "    }\n",
              "\n",
              "    [theme=dark] .colab-df-convert:hover {\n",
              "      background-color: #434B5C;\n",
              "      box-shadow: 0px 1px 3px 1px rgba(0, 0, 0, 0.15);\n",
              "      filter: drop-shadow(0px 1px 2px rgba(0, 0, 0, 0.3));\n",
              "      fill: #FFFFFF;\n",
              "    }\n",
              "  </style>\n",
              "\n",
              "      <script>\n",
              "        const buttonEl =\n",
              "          document.querySelector('#df-fdfb4923-e633-46be-9633-ff52d782a0f2 button.colab-df-convert');\n",
              "        buttonEl.style.display =\n",
              "          google.colab.kernel.accessAllowed ? 'block' : 'none';\n",
              "\n",
              "        async function convertToInteractive(key) {\n",
              "          const element = document.querySelector('#df-fdfb4923-e633-46be-9633-ff52d782a0f2');\n",
              "          const dataTable =\n",
              "            await google.colab.kernel.invokeFunction('convertToInteractive',\n",
              "                                                     [key], {});\n",
              "          if (!dataTable) return;\n",
              "\n",
              "          const docLinkHtml = 'Like what you see? Visit the ' +\n",
              "            '<a target=\"_blank\" href=https://colab.research.google.com/notebooks/data_table.ipynb>data table notebook</a>'\n",
              "            + ' to learn more about interactive tables.';\n",
              "          element.innerHTML = '';\n",
              "          dataTable['output_type'] = 'display_data';\n",
              "          await google.colab.output.renderOutput(dataTable, element);\n",
              "          const docLink = document.createElement('div');\n",
              "          docLink.innerHTML = docLinkHtml;\n",
              "          element.appendChild(docLink);\n",
              "        }\n",
              "      </script>\n",
              "    </div>\n",
              "  </div>\n",
              "  "
            ]
          },
          "metadata": {},
          "execution_count": 13
        }
      ],
      "source": [
        "# Dataframe info\n",
        "print(df_test.info())\n",
        "# Get shape\n",
        "print('No of rows', df_test.shape[0])\n",
        "df_test"
      ]
    },
    {
      "cell_type": "markdown",
      "metadata": {
        "id": "cwDFF13cItVM"
      },
      "source": [
        "# Create the dataset as per requirement"
      ]
    },
    {
      "cell_type": "markdown",
      "metadata": {
        "id": "7m_o_OH1Zwu5"
      },
      "source": [
        "\n",
        "### Current format of image dataset : -\n",
        "data / <br/>\n",
        ". class 1/ <br/>\n",
        ".... img1 <br/>\n",
        ".... img2 <br/>\n",
        ". class 2/ <br/>\n",
        ". class 3/ <br/>\n",
        ". class 4/ <br/>\n",
        "\n",
        "\n",
        "### Format required - \n",
        "data / <br/>\n",
        ".. train / <br/>\n",
        ".... class 1/ <br/>\n",
        "....... img1 <br/>\n",
        "....... img2 <br/>\n",
        ".... class 2/ <br/>\n",
        ".... class 3/ <br/>\n",
        ".... class 4/ <br/>\n",
        ".. test / <br/>\n",
        ".... class 1/ <br/>\n",
        "....... img1 <br/>\n",
        "....... img2 <br/>\n",
        ".... class 2/ <br/>\n",
        ".... class 3/ <br/>\n",
        ".... class 4/ <br/>\n"
      ]
    },
    {
      "cell_type": "markdown",
      "metadata": {
        "id": "-mpaAX5USMnd"
      },
      "source": [
        "## Train directory"
      ]
    },
    {
      "cell_type": "code",
      "execution_count": 14,
      "metadata": {
        "id": "p1zoagwhSSeA"
      },
      "outputs": [],
      "source": [
        "!mkdir '/content/data/train'\n",
        "!mkdir '/content/data/train/glass'\n",
        "!mkdir '/content/data/train/paper'\n",
        "!mkdir '/content/data/train/cardboard'\n",
        "!mkdir '/content/data/train/plastic'\n",
        "!mkdir '/content/data/train/metal'\n",
        "!mkdir '/content/data/train/trash'"
      ]
    },
    {
      "cell_type": "code",
      "execution_count": 15,
      "metadata": {
        "id": "cZ5uqhFcQpsa"
      },
      "outputs": [],
      "source": [
        "for i in range(df_train.shape[0]):\n",
        "  try:\n",
        "    folder = classes[int(df_train.iloc[i,1])]\n",
        "    new_path = '/content/data/train/' + folder\n",
        "    # old_path = '/content/data/garbage classification/Garbage classification/', folder , str(df_train.iloc[i,0]))\n",
        "    old_path = '/content/data/garbage classification/Garbage classification/' + folder + '/' + str(df_train.iloc[i,0])\n",
        "    shutil.move(old_path, new_path)\n",
        "  except:\n",
        "    print(i, str(df_train.iloc[i,0]))"
      ]
    },
    {
      "cell_type": "markdown",
      "metadata": {
        "id": "qXqEFnGmYp7G"
      },
      "source": [
        "## Validation directory"
      ]
    },
    {
      "cell_type": "code",
      "execution_count": 16,
      "metadata": {
        "id": "FjTAgIzwYp7H"
      },
      "outputs": [],
      "source": [
        "!mkdir '/content/data/val'\n",
        "!mkdir '/content/data/val/glass'\n",
        "!mkdir '/content/data/val/paper'\n",
        "!mkdir '/content/data/val/cardboard'\n",
        "!mkdir '/content/data/val/plastic'\n",
        "!mkdir '/content/data/val/metal'\n",
        "!mkdir '/content/data/val/trash'"
      ]
    },
    {
      "cell_type": "code",
      "execution_count": 17,
      "metadata": {
        "id": "mKhzPeTMYp7H"
      },
      "outputs": [],
      "source": [
        "for i in range(df_val.shape[0]):\n",
        "  try:\n",
        "    folder = classes[int(df_val.iloc[i,1])]\n",
        "    new_path = '/content/data/val/' + folder\n",
        "    # old_path = '/content/data/garbage classification/Garbage classification/', folder , str(df_val.iloc[i,0]))\n",
        "    old_path = '/content/data/garbage classification/Garbage classification/' + folder + '/' + str(df_val.iloc[i,0])\n",
        "    shutil.move(old_path, new_path)\n",
        "  except:\n",
        "    print(i, str(df_val.iloc[i,0]))"
      ]
    },
    {
      "cell_type": "markdown",
      "metadata": {
        "id": "fWthiORyYqa4"
      },
      "source": [
        "## Test directory"
      ]
    },
    {
      "cell_type": "code",
      "execution_count": 18,
      "metadata": {
        "id": "b00IvPV2Yqa4"
      },
      "outputs": [],
      "source": [
        "!mkdir '/content/data/test'\n",
        "!mkdir '/content/data/test/glass'\n",
        "!mkdir '/content/data/test/paper'\n",
        "!mkdir '/content/data/test/cardboard'\n",
        "!mkdir '/content/data/test/plastic'\n",
        "!mkdir '/content/data/test/metal'\n",
        "!mkdir '/content/data/test/trash'"
      ]
    },
    {
      "cell_type": "code",
      "execution_count": 19,
      "metadata": {
        "id": "n4h7vdKVYqa4"
      },
      "outputs": [],
      "source": [
        "for i in range(df_test.shape[0]):\n",
        "  try:\n",
        "    folder = classes[int(df_test.iloc[i,1])]\n",
        "    new_path = '/content/data/test/' + folder\n",
        "    # old_path = '/content/data/garbage classification/Garbage classification/', folder , str(df_test.iloc[i,0]))\n",
        "    old_path = '/content/data/garbage classification/Garbage classification/' + folder + '/' + str(df_test.iloc[i,0])\n",
        "    shutil.move(old_path, new_path)\n",
        "  except:\n",
        "    print(i, str(df_test.iloc[i,0]))"
      ]
    },
    {
      "cell_type": "markdown",
      "metadata": {
        "id": "Y4FIfwKDZXXY"
      },
      "source": [
        "## Delete old directory"
      ]
    },
    {
      "cell_type": "code",
      "execution_count": 20,
      "metadata": {
        "id": "PpHCT-yrZX75"
      },
      "outputs": [],
      "source": [
        "!rm -rf '/content/data/garbage classification'"
      ]
    },
    {
      "cell_type": "markdown",
      "metadata": {
        "id": "_JfksQAsaFZn"
      },
      "source": [
        "# Data Augmentation"
      ]
    },
    {
      "cell_type": "code",
      "execution_count": 21,
      "metadata": {
        "id": "u9ckI5H2bPPJ"
      },
      "outputs": [],
      "source": [
        "data_gen = ImageDataGenerator(\n",
        "        rotation_range=45,\n",
        "        # width_shift_range=0.2,\n",
        "        # height_shift_range=0.2,\n",
        "        horizontal_flip=True,\n",
        "        vertical_flip=True,\n",
        "        # brightness_range=[0.75,1.25],\n",
        "        rescale=1./255,\n",
        "        # zoom_range=0.25,\n",
        "        # fill_mode='nearest'\n",
        "        )\n",
        "\n",
        "test_gen = ImageDataGenerator(rescale=1./255)"
      ]
    },
    {
      "cell_type": "code",
      "execution_count": 22,
      "metadata": {
        "colab": {
          "base_uri": "https://localhost:8080/"
        },
        "id": "zK6t7xN7c53B",
        "outputId": "b1ce1bf0-1426-4fd9-e305-a79010aa8ea1"
      },
      "outputs": [
        {
          "output_type": "stream",
          "name": "stdout",
          "text": [
            "Found 1768 images belonging to 6 classes.\n",
            "Found 328 images belonging to 6 classes.\n",
            "Found 328 images belonging to 6 classes.\n",
            "Found 431 images belonging to 6 classes.\n"
          ]
        }
      ],
      "source": [
        "train_data_gen = data_gen.flow_from_directory(\n",
        "                                        batch_size=128,                           # number of images in each batch\n",
        "                                        directory='/content/data/train',          # the source of your images\n",
        "                                        shuffle=True,                             # the images will be shuffle\n",
        "                                        target_size=(128, 128),                   # size (height, width) of your images\n",
        "                                        class_mode='categorical'                  # categorical because the dataset contains more than 2 labels\n",
        "                                        )\n",
        "val_data_gen = data_gen.flow_from_directory(\n",
        "                                        batch_size=128,                           # number of images in each batch\n",
        "                                        directory='/content/data/val',            # the source of your images\n",
        "                                        shuffle=True,                             # the images will be shuffle\n",
        "                                        target_size=(128, 128),                   # size (height, width) of your images\n",
        "                                        class_mode='categorical'                  # categorical because the dataset contains more than 2 labels\n",
        "                                        )\n",
        "val_test_gen = test_gen.flow_from_directory(\n",
        "                                        batch_size=128,                           # number of images in each batch\n",
        "                                        directory='/content/data/val',            # the source of your images\n",
        "                                        shuffle=True,                             # the images will be shuffle\n",
        "                                        target_size=(128, 128),                   # size (height, width) of your images\n",
        "                                        class_mode='categorical'                  # categorical because the dataset contains more than 2 labels\n",
        "                                        )\n",
        "test_data_gen = test_gen.flow_from_directory(\n",
        "                                        batch_size=128,                           # number of images in each batch\n",
        "                                        directory='/content/data/test',           # the source of your images\n",
        "                                        shuffle=True,                             # the images will be shuffle\n",
        "                                        target_size=(128, 128),                   # size (height, width) of your images\n",
        "                                        class_mode='categorical'                  # categorical because the dataset contains more than 2 labels\n",
        "                                        )"
      ]
    },
    {
      "cell_type": "markdown",
      "metadata": {
        "id": "H3QR44nsZ0h_"
      },
      "source": [
        "# Model Training"
      ]
    },
    {
      "cell_type": "markdown",
      "metadata": {
        "id": "7vvL7nMEZ4_Z"
      },
      "source": [
        "* Validation - val_data_gen\n",
        "* 1 conv layer - 16 with batch normalization and dropout \n",
        "* 2 32 dense layers with batch normalization"
      ]
    },
    {
      "cell_type": "code",
      "execution_count": 39,
      "metadata": {
        "id": "TRPqt-ERmFrO"
      },
      "outputs": [],
      "source": [
        "m_best = tf.keras.models.Sequential([\n",
        "                                    tf.keras.layers.Conv2D(16, (3,3), activation='relu', input_shape =(128,128,3)),\n",
        "                                    tf.keras.layers.BatchNormalization(),\n",
        "                                    tf.keras.layers.MaxPooling2D(2,2),\n",
        "                                    tf.keras.layers.Dropout(0.5),\n",
        "\n",
        "                                    tf.keras.layers.Flatten(),\n",
        "                                    # tf.keras.layers.Dense(64, activation='relu'),\n",
        "                                    tf.keras.layers.Dense(1024, activation='relu'),\n",
        "                                    tf.keras.layers.Dense(1024, activation='relu'),\n",
        "                                    tf.keras.layers.Dense(6, activation='softmax')\n",
        "])\n"
      ]
    },
    {
      "cell_type": "code",
      "source": [
        "# decrt = 0.1/120\n",
        "# m_best.compile(loss='categorical_crossentropy', optimizer=tf.keras.optimizers.Adam(learning_rate = 0.1, decay = decrt), metrics=['accuracy'])\n",
        "m_best.compile(loss='categorical_crossentropy', optimizer=tf.keras.optimizers.Adam(learning_rate = 0.00001), metrics=['accuracy'])\n",
        "es = tf.keras.callbacks.EarlyStopping(monitor='val_accuracy', patience=10, verbose=1, restore_best_weights=True)\n",
        "\n",
        "m_best.fit(\n",
        "  train_data_gen,\n",
        "  batch_size = 32, \n",
        "  callbacks=[es], \n",
        "  validation_data=val_test_gen, \n",
        "  epochs=120\n",
        ")"
      ],
      "metadata": {
        "colab": {
          "base_uri": "https://localhost:8080/"
        },
        "id": "gXO1E2E-AFRP",
        "outputId": "ee950c4d-06e0-4d01-f6fc-fe13259d8bec"
      },
      "execution_count": 40,
      "outputs": [
        {
          "output_type": "stream",
          "name": "stdout",
          "text": [
            "Epoch 1/120\n",
            "14/14 [==============================] - 12s 840ms/step - loss: 1.7302 - accuracy: 0.3326 - val_loss: 1.7023 - val_accuracy: 0.2652\n",
            "Epoch 2/120\n",
            "14/14 [==============================] - 11s 781ms/step - loss: 1.4969 - accuracy: 0.4406 - val_loss: 1.6917 - val_accuracy: 0.2652\n",
            "Epoch 3/120\n",
            "14/14 [==============================] - 11s 791ms/step - loss: 1.3830 - accuracy: 0.4655 - val_loss: 1.6907 - val_accuracy: 0.2744\n",
            "Epoch 4/120\n",
            "14/14 [==============================] - 11s 795ms/step - loss: 1.3378 - accuracy: 0.4774 - val_loss: 1.6915 - val_accuracy: 0.2835\n",
            "Epoch 5/120\n",
            "14/14 [==============================] - 12s 836ms/step - loss: 1.2952 - accuracy: 0.5164 - val_loss: 1.6722 - val_accuracy: 0.2896\n",
            "Epoch 6/120\n",
            "14/14 [==============================] - 11s 785ms/step - loss: 1.2538 - accuracy: 0.5204 - val_loss: 1.6685 - val_accuracy: 0.2744\n",
            "Epoch 7/120\n",
            "14/14 [==============================] - 11s 783ms/step - loss: 1.2363 - accuracy: 0.5345 - val_loss: 1.6628 - val_accuracy: 0.2805\n",
            "Epoch 8/120\n",
            "14/14 [==============================] - 11s 790ms/step - loss: 1.2062 - accuracy: 0.5509 - val_loss: 1.6505 - val_accuracy: 0.2988\n",
            "Epoch 9/120\n",
            "14/14 [==============================] - 11s 793ms/step - loss: 1.1608 - accuracy: 0.5656 - val_loss: 1.6289 - val_accuracy: 0.3079\n",
            "Epoch 10/120\n",
            "14/14 [==============================] - 11s 776ms/step - loss: 1.1276 - accuracy: 0.5775 - val_loss: 1.6177 - val_accuracy: 0.2957\n",
            "Epoch 11/120\n",
            "14/14 [==============================] - 11s 791ms/step - loss: 1.1128 - accuracy: 0.5871 - val_loss: 1.5918 - val_accuracy: 0.3384\n",
            "Epoch 12/120\n",
            "14/14 [==============================] - 11s 794ms/step - loss: 1.1097 - accuracy: 0.5871 - val_loss: 1.5836 - val_accuracy: 0.3689\n",
            "Epoch 13/120\n",
            "14/14 [==============================] - 11s 794ms/step - loss: 1.0926 - accuracy: 0.5916 - val_loss: 1.5638 - val_accuracy: 0.3994\n",
            "Epoch 14/120\n",
            "14/14 [==============================] - 11s 794ms/step - loss: 1.0739 - accuracy: 0.6080 - val_loss: 1.5435 - val_accuracy: 0.4177\n",
            "Epoch 15/120\n",
            "14/14 [==============================] - 11s 799ms/step - loss: 1.0320 - accuracy: 0.6148 - val_loss: 1.5229 - val_accuracy: 0.4238\n",
            "Epoch 16/120\n",
            "14/14 [==============================] - 11s 786ms/step - loss: 1.0292 - accuracy: 0.6193 - val_loss: 1.5049 - val_accuracy: 0.4329\n",
            "Epoch 17/120\n",
            "14/14 [==============================] - 11s 788ms/step - loss: 1.0319 - accuracy: 0.6018 - val_loss: 1.4791 - val_accuracy: 0.4665\n",
            "Epoch 18/120\n",
            "14/14 [==============================] - 11s 803ms/step - loss: 1.0081 - accuracy: 0.6357 - val_loss: 1.4570 - val_accuracy: 0.4695\n",
            "Epoch 19/120\n",
            "14/14 [==============================] - 11s 788ms/step - loss: 1.0021 - accuracy: 0.6176 - val_loss: 1.4213 - val_accuracy: 0.4726\n",
            "Epoch 20/120\n",
            "14/14 [==============================] - 11s 779ms/step - loss: 0.9832 - accuracy: 0.6352 - val_loss: 1.4172 - val_accuracy: 0.4726\n",
            "Epoch 21/120\n",
            "14/14 [==============================] - 11s 792ms/step - loss: 0.9692 - accuracy: 0.6499 - val_loss: 1.3980 - val_accuracy: 0.4817\n",
            "Epoch 22/120\n",
            "14/14 [==============================] - 11s 802ms/step - loss: 0.9616 - accuracy: 0.6505 - val_loss: 1.3506 - val_accuracy: 0.5213\n",
            "Epoch 23/120\n",
            "14/14 [==============================] - 11s 789ms/step - loss: 0.9445 - accuracy: 0.6499 - val_loss: 1.3374 - val_accuracy: 0.5274\n",
            "Epoch 24/120\n",
            "14/14 [==============================] - 11s 779ms/step - loss: 0.9439 - accuracy: 0.6420 - val_loss: 1.3227 - val_accuracy: 0.5061\n",
            "Epoch 25/120\n",
            "14/14 [==============================] - 11s 776ms/step - loss: 0.9386 - accuracy: 0.6612 - val_loss: 1.3109 - val_accuracy: 0.5122\n",
            "Epoch 26/120\n",
            "14/14 [==============================] - 11s 788ms/step - loss: 0.9101 - accuracy: 0.6708 - val_loss: 1.2734 - val_accuracy: 0.5640\n",
            "Epoch 27/120\n",
            "14/14 [==============================] - 11s 773ms/step - loss: 0.9026 - accuracy: 0.6725 - val_loss: 1.2617 - val_accuracy: 0.5579\n",
            "Epoch 28/120\n",
            "14/14 [==============================] - 11s 779ms/step - loss: 0.9049 - accuracy: 0.6606 - val_loss: 1.2621 - val_accuracy: 0.5366\n",
            "Epoch 29/120\n",
            "14/14 [==============================] - 11s 801ms/step - loss: 0.9000 - accuracy: 0.6618 - val_loss: 1.2414 - val_accuracy: 0.5640\n",
            "Epoch 30/120\n",
            "14/14 [==============================] - 11s 785ms/step - loss: 0.8799 - accuracy: 0.6833 - val_loss: 1.2090 - val_accuracy: 0.5884\n",
            "Epoch 31/120\n",
            "14/14 [==============================] - 11s 789ms/step - loss: 0.8877 - accuracy: 0.6606 - val_loss: 1.1724 - val_accuracy: 0.6067\n",
            "Epoch 32/120\n",
            "14/14 [==============================] - 11s 778ms/step - loss: 0.8897 - accuracy: 0.6770 - val_loss: 1.1858 - val_accuracy: 0.6006\n",
            "Epoch 33/120\n",
            "14/14 [==============================] - 11s 783ms/step - loss: 0.8627 - accuracy: 0.6883 - val_loss: 1.1614 - val_accuracy: 0.6098\n",
            "Epoch 34/120\n",
            "14/14 [==============================] - 11s 774ms/step - loss: 0.8231 - accuracy: 0.6946 - val_loss: 1.1489 - val_accuracy: 0.5945\n",
            "Epoch 35/120\n",
            "14/14 [==============================] - 11s 785ms/step - loss: 0.8651 - accuracy: 0.6759 - val_loss: 1.1314 - val_accuracy: 0.6067\n",
            "Epoch 36/120\n",
            "14/14 [==============================] - 11s 787ms/step - loss: 0.8264 - accuracy: 0.7019 - val_loss: 1.1089 - val_accuracy: 0.6159\n",
            "Epoch 37/120\n",
            "14/14 [==============================] - 11s 803ms/step - loss: 0.8342 - accuracy: 0.6934 - val_loss: 1.0814 - val_accuracy: 0.6189\n",
            "Epoch 38/120\n",
            "14/14 [==============================] - 11s 783ms/step - loss: 0.8148 - accuracy: 0.7064 - val_loss: 1.0773 - val_accuracy: 0.6341\n",
            "Epoch 39/120\n",
            "14/14 [==============================] - 11s 785ms/step - loss: 0.7985 - accuracy: 0.7110 - val_loss: 1.0663 - val_accuracy: 0.6372\n",
            "Epoch 40/120\n",
            "14/14 [==============================] - 11s 779ms/step - loss: 0.8098 - accuracy: 0.7081 - val_loss: 1.0475 - val_accuracy: 0.6341\n",
            "Epoch 41/120\n",
            "14/14 [==============================] - 11s 774ms/step - loss: 0.7957 - accuracy: 0.7121 - val_loss: 1.0372 - val_accuracy: 0.6220\n",
            "Epoch 42/120\n",
            "14/14 [==============================] - 11s 788ms/step - loss: 0.7821 - accuracy: 0.7195 - val_loss: 1.0303 - val_accuracy: 0.6280\n",
            "Epoch 43/120\n",
            "14/14 [==============================] - 11s 779ms/step - loss: 0.7792 - accuracy: 0.7127 - val_loss: 1.0127 - val_accuracy: 0.6341\n",
            "Epoch 44/120\n",
            "14/14 [==============================] - 11s 786ms/step - loss: 0.7856 - accuracy: 0.7121 - val_loss: 1.0270 - val_accuracy: 0.6433\n",
            "Epoch 45/120\n",
            "14/14 [==============================] - 11s 772ms/step - loss: 0.7477 - accuracy: 0.7285 - val_loss: 1.0042 - val_accuracy: 0.6250\n",
            "Epoch 46/120\n",
            "14/14 [==============================] - 11s 803ms/step - loss: 0.7548 - accuracy: 0.7189 - val_loss: 1.0231 - val_accuracy: 0.6280\n",
            "Epoch 47/120\n",
            "14/14 [==============================] - 11s 777ms/step - loss: 0.7462 - accuracy: 0.7302 - val_loss: 0.9812 - val_accuracy: 0.6402\n",
            "Epoch 48/120\n",
            "14/14 [==============================] - 11s 771ms/step - loss: 0.7449 - accuracy: 0.7342 - val_loss: 0.9922 - val_accuracy: 0.6433\n",
            "Epoch 49/120\n",
            "14/14 [==============================] - 11s 797ms/step - loss: 0.7552 - accuracy: 0.7195 - val_loss: 0.9707 - val_accuracy: 0.6646\n",
            "Epoch 50/120\n",
            "14/14 [==============================] - 11s 777ms/step - loss: 0.7465 - accuracy: 0.7234 - val_loss: 0.9785 - val_accuracy: 0.6463\n",
            "Epoch 51/120\n",
            "14/14 [==============================] - 11s 798ms/step - loss: 0.7398 - accuracy: 0.7325 - val_loss: 0.9717 - val_accuracy: 0.6555\n",
            "Epoch 52/120\n",
            "14/14 [==============================] - 11s 792ms/step - loss: 0.7294 - accuracy: 0.7279 - val_loss: 0.9586 - val_accuracy: 0.6616\n",
            "Epoch 53/120\n",
            "14/14 [==============================] - 11s 791ms/step - loss: 0.7090 - accuracy: 0.7438 - val_loss: 0.9746 - val_accuracy: 0.6707\n",
            "Epoch 54/120\n",
            "14/14 [==============================] - 11s 808ms/step - loss: 0.7377 - accuracy: 0.7268 - val_loss: 0.9764 - val_accuracy: 0.6738\n",
            "Epoch 55/120\n",
            "14/14 [==============================] - 11s 786ms/step - loss: 0.7176 - accuracy: 0.7432 - val_loss: 0.9902 - val_accuracy: 0.6585\n",
            "Epoch 56/120\n",
            "14/14 [==============================] - 11s 784ms/step - loss: 0.7216 - accuracy: 0.7319 - val_loss: 0.9965 - val_accuracy: 0.6616\n",
            "Epoch 57/120\n",
            "14/14 [==============================] - 11s 801ms/step - loss: 0.7078 - accuracy: 0.7443 - val_loss: 0.9799 - val_accuracy: 0.6494\n",
            "Epoch 58/120\n",
            "14/14 [==============================] - 11s 797ms/step - loss: 0.6923 - accuracy: 0.7483 - val_loss: 0.9925 - val_accuracy: 0.6585\n",
            "Epoch 59/120\n",
            "14/14 [==============================] - 11s 786ms/step - loss: 0.6719 - accuracy: 0.7596 - val_loss: 0.9966 - val_accuracy: 0.6555\n",
            "Epoch 60/120\n",
            "14/14 [==============================] - 11s 787ms/step - loss: 0.6981 - accuracy: 0.7387 - val_loss: 1.0039 - val_accuracy: 0.6646\n",
            "Epoch 61/120\n",
            "14/14 [==============================] - 11s 784ms/step - loss: 0.6838 - accuracy: 0.7466 - val_loss: 1.0089 - val_accuracy: 0.6616\n",
            "Epoch 62/120\n",
            "14/14 [==============================] - 11s 789ms/step - loss: 0.6669 - accuracy: 0.7551 - val_loss: 1.0051 - val_accuracy: 0.6646\n",
            "Epoch 63/120\n",
            "14/14 [==============================] - 11s 784ms/step - loss: 0.6768 - accuracy: 0.7506 - val_loss: 1.0113 - val_accuracy: 0.6616\n",
            "Epoch 64/120\n",
            "14/14 [==============================] - ETA: 0s - loss: 0.6742 - accuracy: 0.7574Restoring model weights from the end of the best epoch: 54.\n",
            "14/14 [==============================] - 11s 787ms/step - loss: 0.6742 - accuracy: 0.7574 - val_loss: 0.9924 - val_accuracy: 0.6524\n",
            "Epoch 64: early stopping\n"
          ]
        },
        {
          "output_type": "execute_result",
          "data": {
            "text/plain": [
              "<keras.callbacks.History at 0x7f13d6b02490>"
            ]
          },
          "metadata": {},
          "execution_count": 40
        }
      ]
    },
    {
      "cell_type": "code",
      "execution_count": 41,
      "metadata": {
        "id": "2ybYthjqE_Rb",
        "colab": {
          "base_uri": "https://localhost:8080/"
        },
        "outputId": "ec88bdf4-fafb-42ed-f233-89840df91d37"
      },
      "outputs": [
        {
          "output_type": "stream",
          "name": "stdout",
          "text": [
            "Epoch 1/120\n",
            "14/14 [==============================] - 12s 827ms/step - loss: 0.7155 - accuracy: 0.7472 - val_loss: 0.9873 - val_accuracy: 0.6555\n",
            "Epoch 2/120\n",
            "14/14 [==============================] - 11s 796ms/step - loss: 0.7153 - accuracy: 0.7432 - val_loss: 1.0005 - val_accuracy: 0.6677\n",
            "Epoch 3/120\n",
            "14/14 [==============================] - 11s 768ms/step - loss: 0.6994 - accuracy: 0.7562 - val_loss: 0.9883 - val_accuracy: 0.6555\n",
            "Epoch 4/120\n",
            "14/14 [==============================] - 11s 772ms/step - loss: 0.7022 - accuracy: 0.7489 - val_loss: 1.0130 - val_accuracy: 0.6585\n",
            "Epoch 5/120\n",
            "14/14 [==============================] - 11s 795ms/step - loss: 0.6985 - accuracy: 0.7517 - val_loss: 0.9713 - val_accuracy: 0.6646\n",
            "Epoch 6/120\n",
            "14/14 [==============================] - 11s 813ms/step - loss: 0.6770 - accuracy: 0.7545 - val_loss: 0.9974 - val_accuracy: 0.6585\n",
            "Epoch 7/120\n",
            "14/14 [==============================] - 11s 777ms/step - loss: 0.7036 - accuracy: 0.7483 - val_loss: 1.0053 - val_accuracy: 0.6616\n",
            "Epoch 8/120\n",
            "14/14 [==============================] - 11s 789ms/step - loss: 0.6763 - accuracy: 0.7596 - val_loss: 0.9860 - val_accuracy: 0.6646\n",
            "Epoch 9/120\n",
            "14/14 [==============================] - 11s 777ms/step - loss: 0.6841 - accuracy: 0.7545 - val_loss: 1.0084 - val_accuracy: 0.6585\n",
            "Epoch 10/120\n",
            "14/14 [==============================] - 11s 791ms/step - loss: 0.6583 - accuracy: 0.7664 - val_loss: 1.0225 - val_accuracy: 0.6768\n",
            "Epoch 11/120\n",
            "14/14 [==============================] - 11s 795ms/step - loss: 0.6573 - accuracy: 0.7664 - val_loss: 0.9878 - val_accuracy: 0.6921\n",
            "Epoch 12/120\n",
            "14/14 [==============================] - 11s 780ms/step - loss: 0.6610 - accuracy: 0.7596 - val_loss: 1.0057 - val_accuracy: 0.6677\n",
            "Epoch 13/120\n",
            "14/14 [==============================] - 11s 773ms/step - loss: 0.6359 - accuracy: 0.7726 - val_loss: 1.0127 - val_accuracy: 0.6677\n",
            "Epoch 14/120\n",
            "14/14 [==============================] - 11s 783ms/step - loss: 0.6459 - accuracy: 0.7743 - val_loss: 0.9858 - val_accuracy: 0.6677\n",
            "Epoch 15/120\n",
            "14/14 [==============================] - 11s 779ms/step - loss: 0.6402 - accuracy: 0.7636 - val_loss: 0.9854 - val_accuracy: 0.6890\n",
            "Epoch 16/120\n",
            "14/14 [==============================] - 11s 786ms/step - loss: 0.6227 - accuracy: 0.7766 - val_loss: 0.9783 - val_accuracy: 0.6677\n",
            "Epoch 17/120\n",
            "14/14 [==============================] - 11s 781ms/step - loss: 0.6263 - accuracy: 0.7771 - val_loss: 0.9732 - val_accuracy: 0.6890\n",
            "Epoch 18/120\n",
            "14/14 [==============================] - 11s 771ms/step - loss: 0.6419 - accuracy: 0.7715 - val_loss: 0.9752 - val_accuracy: 0.6799\n",
            "Epoch 19/120\n",
            "14/14 [==============================] - 11s 788ms/step - loss: 0.6293 - accuracy: 0.7743 - val_loss: 0.9691 - val_accuracy: 0.6829\n",
            "Epoch 20/120\n",
            "14/14 [==============================] - 11s 776ms/step - loss: 0.6037 - accuracy: 0.7783 - val_loss: 0.9828 - val_accuracy: 0.6707\n",
            "Epoch 21/120\n",
            "14/14 [==============================] - ETA: 0s - loss: 0.6091 - accuracy: 0.7783Restoring model weights from the end of the best epoch: 11.\n",
            "14/14 [==============================] - 11s 791ms/step - loss: 0.6091 - accuracy: 0.7783 - val_loss: 0.9966 - val_accuracy: 0.6707\n",
            "Epoch 21: early stopping\n"
          ]
        },
        {
          "output_type": "execute_result",
          "data": {
            "text/plain": [
              "<keras.callbacks.History at 0x7f13d5d40550>"
            ]
          },
          "metadata": {},
          "execution_count": 41
        }
      ],
      "source": [
        "m_best.fit(\n",
        "  train_data_gen,\n",
        "  batch_size = 160,\n",
        "  callbacks=[es], \n",
        "  validation_data=val_test_gen, \n",
        "  epochs=120\n",
        ")"
      ]
    },
    {
      "cell_type": "code",
      "execution_count": 42,
      "metadata": {
        "id": "VHkISu2Fj13q",
        "colab": {
          "base_uri": "https://localhost:8080/"
        },
        "outputId": "c9dc5703-8fb5-4254-887a-b9d5c61311a0"
      },
      "outputs": [
        {
          "output_type": "stream",
          "name": "stdout",
          "text": [
            "Epoch 1/120\n",
            "14/14 [==============================] - 12s 855ms/step - loss: 0.6625 - accuracy: 0.7511 - val_loss: 1.0028 - val_accuracy: 0.6860\n",
            "Epoch 2/120\n",
            "14/14 [==============================] - 11s 795ms/step - loss: 0.6330 - accuracy: 0.7760 - val_loss: 1.0050 - val_accuracy: 0.6738\n",
            "Epoch 3/120\n",
            "14/14 [==============================] - 11s 808ms/step - loss: 0.6460 - accuracy: 0.7664 - val_loss: 0.9889 - val_accuracy: 0.6707\n",
            "Epoch 4/120\n",
            "14/14 [==============================] - 11s 788ms/step - loss: 0.6542 - accuracy: 0.7607 - val_loss: 0.9778 - val_accuracy: 0.6646\n",
            "Epoch 5/120\n",
            "14/14 [==============================] - 11s 787ms/step - loss: 0.6442 - accuracy: 0.7568 - val_loss: 0.9540 - val_accuracy: 0.6829\n",
            "Epoch 6/120\n",
            "14/14 [==============================] - 11s 781ms/step - loss: 0.6336 - accuracy: 0.7562 - val_loss: 0.9671 - val_accuracy: 0.6768\n",
            "Epoch 7/120\n",
            "14/14 [==============================] - 11s 796ms/step - loss: 0.6309 - accuracy: 0.7760 - val_loss: 0.9648 - val_accuracy: 0.6890\n",
            "Epoch 8/120\n",
            "14/14 [==============================] - 11s 788ms/step - loss: 0.6185 - accuracy: 0.7715 - val_loss: 0.9660 - val_accuracy: 0.6890\n",
            "Epoch 9/120\n",
            "14/14 [==============================] - 11s 805ms/step - loss: 0.6046 - accuracy: 0.7755 - val_loss: 0.9638 - val_accuracy: 0.6951\n",
            "Epoch 10/120\n",
            "14/14 [==============================] - 11s 797ms/step - loss: 0.6170 - accuracy: 0.7721 - val_loss: 0.9637 - val_accuracy: 0.6921\n",
            "Epoch 11/120\n",
            "14/14 [==============================] - 11s 797ms/step - loss: 0.6181 - accuracy: 0.7670 - val_loss: 0.9602 - val_accuracy: 0.6951\n",
            "Epoch 12/120\n",
            "14/14 [==============================] - 11s 783ms/step - loss: 0.6154 - accuracy: 0.7687 - val_loss: 0.9832 - val_accuracy: 0.6677\n",
            "Epoch 13/120\n",
            "14/14 [==============================] - 11s 788ms/step - loss: 0.6002 - accuracy: 0.7828 - val_loss: 0.9724 - val_accuracy: 0.6829\n",
            "Epoch 14/120\n",
            "14/14 [==============================] - 11s 788ms/step - loss: 0.6140 - accuracy: 0.7885 - val_loss: 0.9418 - val_accuracy: 0.6768\n",
            "Epoch 15/120\n",
            "14/14 [==============================] - 11s 797ms/step - loss: 0.5995 - accuracy: 0.7817 - val_loss: 0.9371 - val_accuracy: 0.6921\n",
            "Epoch 16/120\n",
            "14/14 [==============================] - 11s 804ms/step - loss: 0.6003 - accuracy: 0.7873 - val_loss: 0.9453 - val_accuracy: 0.6829\n",
            "Epoch 17/120\n",
            "14/14 [==============================] - 11s 789ms/step - loss: 0.6040 - accuracy: 0.7811 - val_loss: 0.9657 - val_accuracy: 0.6768\n",
            "Epoch 18/120\n",
            "14/14 [==============================] - 11s 793ms/step - loss: 0.5828 - accuracy: 0.7817 - val_loss: 0.9358 - val_accuracy: 0.6860\n",
            "Epoch 19/120\n",
            "14/14 [==============================] - 11s 801ms/step - loss: 0.5718 - accuracy: 0.7788 - val_loss: 0.9414 - val_accuracy: 0.7043\n",
            "Epoch 20/120\n",
            "14/14 [==============================] - 11s 790ms/step - loss: 0.5914 - accuracy: 0.7777 - val_loss: 0.9461 - val_accuracy: 0.6829\n",
            "Epoch 21/120\n",
            "14/14 [==============================] - 11s 801ms/step - loss: 0.5787 - accuracy: 0.7896 - val_loss: 0.9478 - val_accuracy: 0.6799\n",
            "Epoch 22/120\n",
            "14/14 [==============================] - 11s 793ms/step - loss: 0.5648 - accuracy: 0.7913 - val_loss: 0.9426 - val_accuracy: 0.6860\n",
            "Epoch 23/120\n",
            "14/14 [==============================] - 11s 784ms/step - loss: 0.5501 - accuracy: 0.8015 - val_loss: 0.9524 - val_accuracy: 0.6860\n",
            "Epoch 24/120\n",
            "14/14 [==============================] - 11s 796ms/step - loss: 0.5529 - accuracy: 0.8077 - val_loss: 0.9525 - val_accuracy: 0.7012\n",
            "Epoch 25/120\n",
            "14/14 [==============================] - 11s 791ms/step - loss: 0.5664 - accuracy: 0.8032 - val_loss: 0.9459 - val_accuracy: 0.6951\n",
            "Epoch 26/120\n",
            "14/14 [==============================] - 11s 799ms/step - loss: 0.5454 - accuracy: 0.8003 - val_loss: 0.9494 - val_accuracy: 0.6890\n",
            "Epoch 27/120\n",
            "14/14 [==============================] - 11s 794ms/step - loss: 0.5446 - accuracy: 0.8026 - val_loss: 0.9681 - val_accuracy: 0.6921\n",
            "Epoch 28/120\n",
            "14/14 [==============================] - 11s 793ms/step - loss: 0.5420 - accuracy: 0.8066 - val_loss: 0.9315 - val_accuracy: 0.6982\n",
            "Epoch 29/120\n",
            "14/14 [==============================] - ETA: 0s - loss: 0.5614 - accuracy: 0.8003Restoring model weights from the end of the best epoch: 19.\n",
            "14/14 [==============================] - 11s 796ms/step - loss: 0.5614 - accuracy: 0.8003 - val_loss: 0.9313 - val_accuracy: 0.7012\n",
            "Epoch 29: early stopping\n"
          ]
        },
        {
          "output_type": "execute_result",
          "data": {
            "text/plain": [
              "<keras.callbacks.History at 0x7f135a670710>"
            ]
          },
          "metadata": {},
          "execution_count": 42
        }
      ],
      "source": [
        "m_best.fit(\n",
        "  train_data_gen,\n",
        "  batch_size = 64,\n",
        "  callbacks=[es], \n",
        "  validation_data=val_test_gen, \n",
        "  epochs=120\n",
        ")"
      ]
    },
    {
      "cell_type": "code",
      "execution_count": 27,
      "metadata": {
        "id": "yjeoRNwWC_SG",
        "colab": {
          "base_uri": "https://localhost:8080/",
          "height": 17
        },
        "outputId": "13aef267-f36e-4391-a409-b1f65e861ac5"
      },
      "outputs": [
        {
          "output_type": "display_data",
          "data": {
            "text/plain": [
              "<IPython.core.display.Javascript object>"
            ],
            "application/javascript": [
              "\n",
              "    async function download(id, filename, size) {\n",
              "      if (!google.colab.kernel.accessAllowed) {\n",
              "        return;\n",
              "      }\n",
              "      const div = document.createElement('div');\n",
              "      const label = document.createElement('label');\n",
              "      label.textContent = `Downloading \"${filename}\": `;\n",
              "      div.appendChild(label);\n",
              "      const progress = document.createElement('progress');\n",
              "      progress.max = size;\n",
              "      div.appendChild(progress);\n",
              "      document.body.appendChild(div);\n",
              "\n",
              "      const buffers = [];\n",
              "      let downloaded = 0;\n",
              "\n",
              "      const channel = await google.colab.kernel.comms.open(id);\n",
              "      // Send a message to notify the kernel that we're ready.\n",
              "      channel.send({})\n",
              "\n",
              "      for await (const message of channel.messages) {\n",
              "        // Send a message to notify the kernel that we're ready.\n",
              "        channel.send({})\n",
              "        if (message.buffers) {\n",
              "          for (const buffer of message.buffers) {\n",
              "            buffers.push(buffer);\n",
              "            downloaded += buffer.byteLength;\n",
              "            progress.value = downloaded;\n",
              "          }\n",
              "        }\n",
              "      }\n",
              "      const blob = new Blob(buffers, {type: 'application/binary'});\n",
              "      const a = document.createElement('a');\n",
              "      a.href = window.URL.createObjectURL(blob);\n",
              "      a.download = filename;\n",
              "      div.appendChild(a);\n",
              "      a.click();\n",
              "      div.remove();\n",
              "    }\n",
              "  "
            ]
          },
          "metadata": {}
        },
        {
          "output_type": "display_data",
          "data": {
            "text/plain": [
              "<IPython.core.display.Javascript object>"
            ],
            "application/javascript": [
              "download(\"download_413010a3-cd3e-416b-815e-e4a9ebc446fb\", \"78val74train.h5\", 24461512)"
            ]
          },
          "metadata": {}
        }
      ],
      "source": [
        "m_best.save('/content/78val74train.h5')\n",
        "files.download('/content/78val74train.h5')"
      ]
    },
    {
      "cell_type": "code",
      "source": [
        "from keras.applications.vgg16 import VGG16\n",
        "from keras.models import Model"
      ],
      "metadata": {
        "id": "xGsoD8eVpWQN"
      },
      "execution_count": 35,
      "outputs": []
    },
    {
      "cell_type": "code",
      "source": [
        "conv_base = VGG16(include_top=False,\n",
        "                     weights='imagenet', \n",
        "                     input_shape=(128,128,3))\n",
        "for layer in conv_base.layers:\n",
        "  layer.trainable = False\n",
        "top_model = conv_base.output\n",
        "top_model = tf.keras.layers.Flatten(name=\"flatten\")(top_model)\n",
        "top_model = tf.keras.layers.Dense(4096, activation='relu')(top_model)\n",
        "top_model = tf.keras.layers.Dense(1072, activation='relu')(top_model)\n",
        "top_model = tf.keras.layers.Dropout(0.2)(top_model)\n",
        "output_layer = tf.keras.layers.Dense(6, activation='softmax')(top_model)\n",
        "\n",
        "# Group the convolutional base and new fully-connected layers into a Model object.\n",
        "model = Model(inputs=conv_base.input, outputs=output_layer)\n",
        "\n",
        "# Compiles the model for training.\n",
        "model.compile(optimizer='adam', \n",
        "              loss='categorical_crossentropy',\n",
        "              metrics=['accuracy'])\n",
        "vgg_history = model.fit(train_data_gen, batch_size = 64, callbacks=[es], validation_data=val_test_gen, epochs=120)"
      ],
      "metadata": {
        "id": "wZWc2CF0pY-H",
        "outputId": "3a48f2fe-4567-4f35-f3d2-ba112928b0fc",
        "colab": {
          "base_uri": "https://localhost:8080/"
        }
      },
      "execution_count": 37,
      "outputs": [
        {
          "output_type": "stream",
          "name": "stdout",
          "text": [
            "Epoch 1/120\n",
            "14/14 [==============================] - 22s 1s/step - loss: 5.2879 - accuracy: 0.2924 - val_loss: 1.5025 - val_accuracy: 0.4451\n",
            "Epoch 2/120\n",
            "14/14 [==============================] - 12s 874ms/step - loss: 1.3120 - accuracy: 0.4734 - val_loss: 1.1173 - val_accuracy: 0.5366\n",
            "Epoch 3/120\n",
            "14/14 [==============================] - 13s 903ms/step - loss: 1.0561 - accuracy: 0.5786 - val_loss: 0.9448 - val_accuracy: 0.6311\n",
            "Epoch 4/120\n",
            "14/14 [==============================] - 12s 870ms/step - loss: 0.9207 - accuracy: 0.6578 - val_loss: 0.8461 - val_accuracy: 0.6799\n",
            "Epoch 5/120\n",
            "14/14 [==============================] - 12s 869ms/step - loss: 0.8277 - accuracy: 0.6906 - val_loss: 0.8551 - val_accuracy: 0.6860\n",
            "Epoch 6/120\n",
            "14/14 [==============================] - 12s 864ms/step - loss: 0.7377 - accuracy: 0.7172 - val_loss: 0.7269 - val_accuracy: 0.7195\n",
            "Epoch 7/120\n",
            "14/14 [==============================] - 13s 916ms/step - loss: 0.6936 - accuracy: 0.7443 - val_loss: 0.7166 - val_accuracy: 0.7317\n",
            "Epoch 8/120\n",
            "14/14 [==============================] - 12s 869ms/step - loss: 0.6332 - accuracy: 0.7766 - val_loss: 0.6980 - val_accuracy: 0.7409\n",
            "Epoch 9/120\n",
            "14/14 [==============================] - 12s 856ms/step - loss: 0.5978 - accuracy: 0.7800 - val_loss: 0.7114 - val_accuracy: 0.7195\n",
            "Epoch 10/120\n",
            "14/14 [==============================] - 12s 868ms/step - loss: 0.5624 - accuracy: 0.7936 - val_loss: 0.7364 - val_accuracy: 0.7378\n",
            "Epoch 11/120\n",
            "14/14 [==============================] - 12s 865ms/step - loss: 0.5796 - accuracy: 0.7873 - val_loss: 0.6299 - val_accuracy: 0.7622\n",
            "Epoch 12/120\n",
            "14/14 [==============================] - 12s 851ms/step - loss: 0.5931 - accuracy: 0.7766 - val_loss: 0.7034 - val_accuracy: 0.7287\n",
            "Epoch 13/120\n",
            "14/14 [==============================] - 12s 847ms/step - loss: 0.5111 - accuracy: 0.8088 - val_loss: 0.6783 - val_accuracy: 0.7409\n",
            "Epoch 14/120\n",
            "14/14 [==============================] - 12s 844ms/step - loss: 0.4596 - accuracy: 0.8467 - val_loss: 0.6475 - val_accuracy: 0.7500\n",
            "Epoch 15/120\n",
            "14/14 [==============================] - 12s 858ms/step - loss: 0.4341 - accuracy: 0.8394 - val_loss: 0.6668 - val_accuracy: 0.7744\n",
            "Epoch 16/120\n",
            "14/14 [==============================] - 12s 848ms/step - loss: 0.4351 - accuracy: 0.8428 - val_loss: 0.6329 - val_accuracy: 0.7622\n",
            "Epoch 17/120\n",
            "14/14 [==============================] - 12s 846ms/step - loss: 0.4051 - accuracy: 0.8535 - val_loss: 0.7162 - val_accuracy: 0.7409\n",
            "Epoch 18/120\n",
            "14/14 [==============================] - 12s 854ms/step - loss: 0.3896 - accuracy: 0.8660 - val_loss: 0.7616 - val_accuracy: 0.7165\n",
            "Epoch 19/120\n",
            "14/14 [==============================] - 12s 849ms/step - loss: 0.3642 - accuracy: 0.8682 - val_loss: 0.6417 - val_accuracy: 0.7774\n",
            "Epoch 20/120\n",
            "14/14 [==============================] - 12s 843ms/step - loss: 0.3879 - accuracy: 0.8586 - val_loss: 0.7039 - val_accuracy: 0.7470\n",
            "Epoch 21/120\n",
            "14/14 [==============================] - 12s 846ms/step - loss: 0.3542 - accuracy: 0.8750 - val_loss: 0.6825 - val_accuracy: 0.7774\n",
            "Epoch 22/120\n",
            "14/14 [==============================] - 12s 843ms/step - loss: 0.3096 - accuracy: 0.8988 - val_loss: 0.6165 - val_accuracy: 0.7683\n",
            "Epoch 23/120\n",
            "14/14 [==============================] - 12s 851ms/step - loss: 0.3086 - accuracy: 0.8925 - val_loss: 0.6109 - val_accuracy: 0.7774\n",
            "Epoch 24/120\n",
            "14/14 [==============================] - 12s 857ms/step - loss: 0.3219 - accuracy: 0.8857 - val_loss: 0.6790 - val_accuracy: 0.7378\n",
            "Epoch 25/120\n",
            "14/14 [==============================] - 12s 846ms/step - loss: 0.3018 - accuracy: 0.8818 - val_loss: 0.6762 - val_accuracy: 0.7378\n",
            "Epoch 26/120\n",
            "14/14 [==============================] - 12s 853ms/step - loss: 0.2557 - accuracy: 0.9061 - val_loss: 0.7361 - val_accuracy: 0.7561\n",
            "Epoch 27/120\n",
            "14/14 [==============================] - 12s 850ms/step - loss: 0.2706 - accuracy: 0.9067 - val_loss: 0.6428 - val_accuracy: 0.7774\n",
            "Epoch 28/120\n",
            "14/14 [==============================] - 12s 850ms/step - loss: 0.3076 - accuracy: 0.8840 - val_loss: 0.7124 - val_accuracy: 0.7622\n",
            "Epoch 29/120\n",
            "14/14 [==============================] - ETA: 0s - loss: 0.2892 - accuracy: 0.8942Restoring model weights from the end of the best epoch: 19.\n",
            "14/14 [==============================] - 12s 873ms/step - loss: 0.2892 - accuracy: 0.8942 - val_loss: 0.6646 - val_accuracy: 0.7713\n",
            "Epoch 29: early stopping\n"
          ]
        }
      ]
    },
    {
      "cell_type": "code",
      "source": [
        "model.save('/content/model.h5')\n",
        "files.download('/content/model.h5')"
      ],
      "metadata": {
        "id": "0Pe9bUohqzi3",
        "outputId": "5a29b853-674b-41a2-dc9d-44fb65bba42a",
        "colab": {
          "base_uri": "https://localhost:8080/",
          "height": 34
        }
      },
      "execution_count": 38,
      "outputs": [
        {
          "output_type": "display_data",
          "data": {
            "text/plain": [
              "<IPython.core.display.Javascript object>"
            ],
            "application/javascript": [
              "\n",
              "    async function download(id, filename, size) {\n",
              "      if (!google.colab.kernel.accessAllowed) {\n",
              "        return;\n",
              "      }\n",
              "      const div = document.createElement('div');\n",
              "      const label = document.createElement('label');\n",
              "      label.textContent = `Downloading \"${filename}\": `;\n",
              "      div.appendChild(label);\n",
              "      const progress = document.createElement('progress');\n",
              "      progress.max = size;\n",
              "      div.appendChild(progress);\n",
              "      document.body.appendChild(div);\n",
              "\n",
              "      const buffers = [];\n",
              "      let downloaded = 0;\n",
              "\n",
              "      const channel = await google.colab.kernel.comms.open(id);\n",
              "      // Send a message to notify the kernel that we're ready.\n",
              "      channel.send({})\n",
              "\n",
              "      for await (const message of channel.messages) {\n",
              "        // Send a message to notify the kernel that we're ready.\n",
              "        channel.send({})\n",
              "        if (message.buffers) {\n",
              "          for (const buffer of message.buffers) {\n",
              "            buffers.push(buffer);\n",
              "            downloaded += buffer.byteLength;\n",
              "            progress.value = downloaded;\n",
              "          }\n",
              "        }\n",
              "      }\n",
              "      const blob = new Blob(buffers, {type: 'application/binary'});\n",
              "      const a = document.createElement('a');\n",
              "      a.href = window.URL.createObjectURL(blob);\n",
              "      a.download = filename;\n",
              "      div.appendChild(a);\n",
              "      a.click();\n",
              "      div.remove();\n",
              "    }\n",
              "  "
            ]
          },
          "metadata": {}
        },
        {
          "output_type": "display_data",
          "data": {
            "text/plain": [
              "<IPython.core.display.Javascript object>"
            ],
            "application/javascript": [
              "download(\"download_64b61962-f959-4a80-b704-a614662e99ea\", \"model.h5\", 514440536)"
            ]
          },
          "metadata": {}
        }
      ]
    },
    {
      "cell_type": "code",
      "source": [
        ""
      ],
      "metadata": {
        "id": "nJyscv8uuVA0"
      },
      "execution_count": null,
      "outputs": []
    }
  ],
  "metadata": {
    "accelerator": "GPU",
    "colab": {
      "name": "GarbageClassification.ipynb",
      "provenance": [],
      "collapsed_sections": [
        "7m_o_OH1Zwu5"
      ]
    },
    "gpuClass": "standard",
    "kernelspec": {
      "display_name": "Python 3",
      "name": "python3"
    },
    "language_info": {
      "name": "python"
    }
  },
  "nbformat": 4,
  "nbformat_minor": 0
}